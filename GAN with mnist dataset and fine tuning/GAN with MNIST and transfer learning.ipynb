{
 "cells": [
  {
   "cell_type": "markdown",
   "metadata": {},
   "source": [
    "### Tasks\n",
    "1. Train a small GAN on the MNIST dataset using PyTorch  \n",
    "https://medium.com/intel-student-ambassadors/mnist-gan-detailed-step-by-step-explanation-implementation-in-code-ecc93b22dc60\n",
    "\n",
    "2. Next, modify your code to train a second model on the EMNIST dataset. \n",
    "3. Freeze the weights of some layers of the trained model and fine-tune it on the MNIST dataset. \n",
    "4. Inspect and compare visual results as well as the losses during training. \n",
    "5. Summarize your results and conclusions. What other approaches could you come up with?"
   ]
  },
  {
   "cell_type": "markdown",
   "metadata": {},
   "source": [
    "### Download Data"
   ]
  },
  {
   "cell_type": "code",
   "execution_count": 1,
   "metadata": {},
   "outputs": [],
   "source": [
    "import torch\n",
    "import numpy as np\n",
    "from torchvision import datasets\n",
    "import torchvision.transforms as transforms\n",
    "\n",
    "# convert data to torch.FloatTensor\n",
    "transform = transforms.ToTensor()\n",
    "\n",
    "# Load training and test datasets\n",
    "train_data = datasets.MNIST(root='data', train=True,\n",
    "                                   download=True, transform=transform)\n",
    "test_data = datasets.MNIST(root='data', train=False,\n",
    "                                  download=True, transform=transform)"
   ]
  },
  {
   "cell_type": "code",
   "execution_count": 2,
   "metadata": {},
   "outputs": [],
   "source": [
    "# Creating dataloaders\n",
    "\n",
    "# number of subprocesses to use for data loading\n",
    "num_workers = 0\n",
    "# how many samples per batch to load\n",
    "batch_size = 20\n",
    "\n",
    "# prepare data loaders\n",
    "train_loader = torch.utils.data.DataLoader(train_data, batch_size=batch_size, num_workers=num_workers)\n",
    "test_loader = torch.utils.data.DataLoader(test_data, batch_size=batch_size, num_workers=num_workers)"
   ]
  },
  {
   "cell_type": "markdown",
   "metadata": {},
   "source": [
    "### Visualize a single element in Dataset"
   ]
  },
  {
   "cell_type": "code",
   "execution_count": 26,
   "metadata": {},
   "outputs": [
    {
     "data": {
      "text/plain": [
       "<matplotlib.image.AxesImage at 0x2d5a2199220>"
      ]
     },
     "execution_count": 26,
     "metadata": {},
     "output_type": "execute_result"
    },
    {
     "data": {
      "image/png": "[encoded data removed]",
      "text/plain": [
       "<Figure size 360x360 with 1 Axes>"
      ]
     },
     "metadata": {
      "needs_background": "light"
     },
     "output_type": "display_data"
    }
   ],
   "source": [
    "import matplotlib.pyplot as plt\n",
    "%matplotlib inline\n",
    "    \n",
    "# obtain one batch of training images\n",
    "dataiter = iter(train_loader)\n",
    "images, labels = dataiter.next()\n",
    "images = images.numpy()\n",
    "\n",
    "# get one image from the batch\n",
    "img = np.squeeze(images[0])\n",
    "\n",
    "fig = plt.figure(figsize = (5,5)) \n",
    "ax = fig.add_subplot(111)\n",
    "ax.imshow(img, cmap='gray')"
   ]
  },
  {
   "cell_type": "markdown",
   "metadata": {},
   "source": [
    "### Creating Discriminator Model"
   ]
  },
  {
   "cell_type": "code",
   "execution_count": 27,
   "metadata": {},
   "outputs": [],
   "source": [
    "import torch.nn as nn\n",
    "import torch.nn.functional as F\n",
    "\n",
    "class Discriminator(nn.Module):\n",
    "\n",
    "    def __init__(self, input_size, hidden_dim, output_size):\n",
    "        super(Discriminator, self).__init__()\n",
    "        \n",
    "        # define hidden linear layers\n",
    "        self.fc1 = nn.Linear(input_size, hidden_dim*4)\n",
    "        self.fc2 = nn.Linear(hidden_dim*4, hidden_dim*2)\n",
    "        self.fc3 = nn.Linear(hidden_dim*2, hidden_dim)\n",
    "        \n",
    "        # final fully-connected layer\n",
    "        self.fc4 = nn.Linear(hidden_dim, output_size)\n",
    "        \n",
    "        # dropout layer \n",
    "        self.dropout = nn.Dropout(0.3)\n",
    "        \n",
    "        \n",
    "    def forward(self, x):\n",
    "        # flatten image\n",
    "        x = x.view(-1, 28*28)\n",
    "        # all hidden layers\n",
    "        x = F.leaky_relu(self.fc1(x), 0.2) # (input, negative_slope=0.2)\n",
    "        x = self.dropout(x)\n",
    "        x = F.leaky_relu(self.fc2(x), 0.2)\n",
    "        x = self.dropout(x)\n",
    "        x = F.leaky_relu(self.fc3(x), 0.2)\n",
    "        x = self.dropout(x)\n",
    "        # final layer\n",
    "        out = self.fc4(x)\n",
    "\n",
    "        return out"
   ]
  },
  {
   "cell_type": "markdown",
   "metadata": {},
   "source": [
    "### Creating Generator Model"
   ]
  },
  {
   "cell_type": "code",
   "execution_count": 53,
   "metadata": {},
   "outputs": [],
   "source": [
    "class Generator(nn.Module):\n",
    "\n",
    "    def __init__(self, input_size, hidden_dim, output_size):\n",
    "        super(Generator, self).__init__()\n",
    "        \n",
    "        # define hidden linear layers\n",
    "        self.fc1 = nn.Linear(input_size, hidden_dim)\n",
    "        self.fc2 = nn.Linear(hidden_dim, hidden_dim*2)\n",
    "        self.fc3 = nn.Linear(hidden_dim*2, hidden_dim*4)\n",
    "        \n",
    "        # final fully-connected layer\n",
    "        self.fc4 = nn.Linear(hidden_dim*4, output_size)\n",
    "        \n",
    "        # dropout layer \n",
    "        self.dropout = nn.Dropout(0.3)\n",
    "\n",
    "    def forward(self, x):\n",
    "        # all hidden layers\n",
    "        x = F.leaky_relu(self.fc1(x), 0.2) # (input, negative_slope=0.2)\n",
    "        x = self.dropout(x)\n",
    "        x = F.leaky_relu(self.fc2(x), 0.2)\n",
    "        x = self.dropout(x)\n",
    "        x = F.leaky_relu(self.fc3(x), 0.2)\n",
    "        x = self.dropout(x)\n",
    "        # final layer with tanh applied\n",
    "        out = torch.tanh(self.fc4(x))\n",
    "\n",
    "        return out"
   ]
  },
  {
   "cell_type": "markdown",
   "metadata": {},
   "source": [
    "### Hyper Parametres for Discriminator and Generator"
   ]
  },
  {
   "cell_type": "code",
   "execution_count": 54,
   "metadata": {},
   "outputs": [],
   "source": [
    "# Discriminator hyperparams\n",
    "# 28*28\n",
    "input_size = 784\n",
    "# Size of discriminator output (real or fake)\n",
    "d_output_size = 1\n",
    "# Hidden layer size and multiple of the below size \n",
    "d_hidden_size = 32\n",
    "\n",
    "# Generator hyperparams\n",
    "# latent vecto size\n",
    "z_size = 100\n",
    "# Generated image size - same as input image size\n",
    "g_output_size = 784\n",
    "# Hidden layer size and multiple of the below size\n",
    "g_hidden_size = 32"
   ]
  },
  {
   "cell_type": "markdown",
   "metadata": {},
   "source": [
    "### Creating object of both Generator and Discriminator"
   ]
  },
  {
   "cell_type": "code",
   "execution_count": 55,
   "metadata": {},
   "outputs": [
    {
     "name": "stdout",
     "output_type": "stream",
     "text": [
      "Discriminator(\n",
      "  (fc1): Linear(in_features=784, out_features=128, bias=True)\n",
      "  (fc2): Linear(in_features=128, out_features=64, bias=True)\n",
      "  (fc3): Linear(in_features=64, out_features=32, bias=True)\n",
      "  (fc4): Linear(in_features=32, out_features=1, bias=True)\n",
      "  (dropout): Dropout(p=0.3, inplace=False)\n",
      ")\n",
      "Generator(\n",
      "  (fc1): Linear(in_features=100, out_features=32, bias=True)\n",
      "  (fc2): Linear(in_features=32, out_features=64, bias=True)\n",
      "  (fc3): Linear(in_features=64, out_features=128, bias=True)\n",
      "  (fc4): Linear(in_features=128, out_features=784, bias=True)\n",
      "  (dropout): Dropout(p=0.3, inplace=False)\n",
      ")\n"
     ]
    }
   ],
   "source": [
    "D = Discriminator(input_size, d_hidden_size, d_output_size)\n",
    "G = Generator(z_size, g_hidden_size, g_output_size)\n",
    "\n",
    "# check that they are as you expect\n",
    "print(D)\n",
    "print(G)"
   ]
  },
  {
   "cell_type": "code",
   "execution_count": 56,
   "metadata": {},
   "outputs": [
    {
     "name": "stdout",
     "output_type": "stream",
     "text": [
      "fc2 weight before train:\n",
      "Parameter containing:\n",
      "tensor([[-0.1074, -0.0509, -0.0067,  ..., -0.0324, -0.0522,  0.0773],\n",
      "        [ 0.1554, -0.0486, -0.1466,  ...,  0.0800, -0.1663, -0.1678],\n",
      "        [-0.0722,  0.0463, -0.1254,  ..., -0.0456,  0.0122, -0.0489],\n",
      "        ...,\n",
      "        [-0.0394,  0.0905,  0.0489,  ..., -0.0880, -0.0967,  0.1363],\n",
      "        [-0.0273,  0.1475, -0.0243,  ..., -0.0717,  0.0099,  0.1461],\n",
      "        [-0.1100,  0.1377, -0.0710,  ..., -0.0382,  0.1412,  0.1567]],\n",
      "       requires_grad=True)\n"
     ]
    }
   ],
   "source": [
    "# print fc2 weight\n",
    "print('fc2 weight before train:')\n",
    "print(G.fc2.weight)"
   ]
  },
  {
   "cell_type": "markdown",
   "metadata": {},
   "source": [
    "### Loss in GAN, Different than normal NN:\n",
    "1. For Discriminator - sum of losses from real and fake images\n",
    "2. For Generator - Loss only when the Discriminator can figure out its a fake image i.e. D(fake_images) = 0"
   ]
  },
  {
   "cell_type": "code",
   "execution_count": 57,
   "metadata": {},
   "outputs": [],
   "source": [
    "def real_loss(D_out, smooth=False):\n",
    "    batch_size = D_out.size(0)\n",
    "    # label smoothing\n",
    "    if smooth:\n",
    "        # smooth, real labels = 0.9\n",
    "        labels = torch.ones(batch_size)*0.9\n",
    "    else:\n",
    "        labels = torch.ones(batch_size) # real labels = 1\n",
    "        \n",
    "    # numerically stable loss\n",
    "    criterion = nn.BCEWithLogitsLoss()\n",
    "    # calculate loss\n",
    "    loss = criterion(D_out.squeeze(), labels)\n",
    "    return loss\n",
    "\n",
    "def fake_loss(D_out):\n",
    "    batch_size = D_out.size(0)\n",
    "    labels = torch.zeros(batch_size) # fake labels = 0\n",
    "    criterion = nn.BCEWithLogitsLoss()\n",
    "    # calculate loss\n",
    "    loss = criterion(D_out.squeeze(), labels)\n",
    "    return loss"
   ]
  },
  {
   "cell_type": "code",
   "execution_count": 58,
   "metadata": {},
   "outputs": [],
   "source": [
    "import torch.optim as optim\n",
    "\n",
    "#learning rate\n",
    "lr = 0.002\n",
    "\n",
    "# Create optimizers for the discriminator and generator\n",
    "d_optimizer = optim.Adam(D.parameters(), lr)\n",
    "g_optimizer = optim.Adam(G.parameters(), lr)"
   ]
  },
  {
   "cell_type": "markdown",
   "metadata": {},
   "source": [
    "### Training Discriminator and Generator without fixing weights\n",
    "\n",
    "Following below procedure to train:\n",
    "1. Train Discriminator: <br /> \n",
    "    a. Run Discriminator on fake images <br /> \n",
    "    b. Compute Loss <br /> \n",
    "    c. Compute Gradient <br /> \n",
    "    d. Update Discrimnator<br /> \n",
    "    e. Run Discriminator on real images<br /> \n",
    "    f. Compute Loss <br /> \n",
    "    g. Compute Gradient <br /> \n",
    "    h. Update Discrimnator <br /> \n",
    "\n",
    "\n",
    "2. Train Generator: <br /> \n",
    "    a. Run Discriminator on fake images <br /> \n",
    "    b. Compute Loss <br /> \n",
    "    c. Compute Gradient <br /> \n",
    "    d. Update Generator <br /> "
   ]
  },
  {
   "cell_type": "code",
   "execution_count": 59,
   "metadata": {},
   "outputs": [
    {
     "name": "stdout",
     "output_type": "stream",
     "text": [
      "Epoch [    1/   10] | d_loss: 1.3960 | g_loss: 0.7113\n",
      "Epoch [    1/   10] | d_loss: 1.1112 | g_loss: 2.3240\n",
      "Epoch [    1/   10] | d_loss: 1.1434 | g_loss: 1.1662\n",
      "Epoch [    1/   10] | d_loss: 1.1586 | g_loss: 4.0393\n",
      "Epoch [    1/   10] | d_loss: 1.3051 | g_loss: 0.7876\n",
      "Epoch [    1/   10] | d_loss: 1.2502 | g_loss: 0.8382\n",
      "Epoch [    1/   10] | d_loss: 1.1746 | g_loss: 0.8882\n",
      "Epoch [    1/   10] | d_loss: 1.3671 | g_loss: 0.8711\n",
      "Epoch [    2/   10] | d_loss: 1.2283 | g_loss: 1.3104\n",
      "Epoch [    2/   10] | d_loss: 1.4669 | g_loss: 1.9143\n",
      "Epoch [    2/   10] | d_loss: 1.3694 | g_loss: 0.8985\n",
      "Epoch [    2/   10] | d_loss: 1.1112 | g_loss: 0.9625\n",
      "Epoch [    2/   10] | d_loss: 1.5313 | g_loss: 1.3040\n",
      "Epoch [    2/   10] | d_loss: 1.0822 | g_loss: 1.1178\n",
      "Epoch [    2/   10] | d_loss: 1.2590 | g_loss: 1.3736\n",
      "Epoch [    2/   10] | d_loss: 1.4843 | g_loss: 1.0885\n",
      "Epoch [    3/   10] | d_loss: 1.0194 | g_loss: 1.9834\n",
      "Epoch [    3/   10] | d_loss: 1.1064 | g_loss: 1.3545\n",
      "Epoch [    3/   10] | d_loss: 1.4955 | g_loss: 0.9838\n",
      "Epoch [    3/   10] | d_loss: 1.3371 | g_loss: 0.8720\n",
      "Epoch [    3/   10] | d_loss: 1.4146 | g_loss: 1.0424\n",
      "Epoch [    3/   10] | d_loss: 1.2123 | g_loss: 0.9855\n",
      "Epoch [    3/   10] | d_loss: 1.1695 | g_loss: 0.9087\n",
      "Epoch [    3/   10] | d_loss: 1.3268 | g_loss: 1.2016\n",
      "Epoch [    4/   10] | d_loss: 1.1602 | g_loss: 1.2399\n",
      "Epoch [    4/   10] | d_loss: 1.2558 | g_loss: 0.9697\n",
      "Epoch [    4/   10] | d_loss: 1.2129 | g_loss: 1.1173\n",
      "Epoch [    4/   10] | d_loss: 1.1080 | g_loss: 1.0636\n",
      "Epoch [    4/   10] | d_loss: 1.3753 | g_loss: 1.0019\n",
      "Epoch [    4/   10] | d_loss: 1.3577 | g_loss: 1.3273\n",
      "Epoch [    4/   10] | d_loss: 1.3262 | g_loss: 1.2373\n",
      "Epoch [    4/   10] | d_loss: 1.0655 | g_loss: 2.1683\n",
      "Epoch [    5/   10] | d_loss: 1.4966 | g_loss: 1.0350\n",
      "Epoch [    5/   10] | d_loss: 1.1580 | g_loss: 1.1749\n",
      "Epoch [    5/   10] | d_loss: 1.1981 | g_loss: 1.1473\n",
      "Epoch [    5/   10] | d_loss: 1.2269 | g_loss: 1.6464\n",
      "Epoch [    5/   10] | d_loss: 1.1515 | g_loss: 1.0105\n",
      "Epoch [    5/   10] | d_loss: 1.2400 | g_loss: 1.0503\n",
      "Epoch [    5/   10] | d_loss: 1.2027 | g_loss: 0.9255\n",
      "Epoch [    5/   10] | d_loss: 1.4554 | g_loss: 0.8499\n",
      "Epoch [    6/   10] | d_loss: 1.2249 | g_loss: 0.8669\n",
      "Epoch [    6/   10] | d_loss: 1.1834 | g_loss: 1.2898\n",
      "Epoch [    6/   10] | d_loss: 1.4553 | g_loss: 1.3047\n",
      "Epoch [    6/   10] | d_loss: 1.2487 | g_loss: 1.0417\n",
      "Epoch [    6/   10] | d_loss: 1.3199 | g_loss: 0.8868\n",
      "Epoch [    6/   10] | d_loss: 1.2070 | g_loss: 1.1937\n",
      "Epoch [    6/   10] | d_loss: 1.2517 | g_loss: 1.0122\n",
      "Epoch [    6/   10] | d_loss: 1.1144 | g_loss: 1.1736\n",
      "Epoch [    7/   10] | d_loss: 1.2611 | g_loss: 1.5739\n",
      "Epoch [    7/   10] | d_loss: 1.2189 | g_loss: 1.0188\n",
      "Epoch [    7/   10] | d_loss: 1.2159 | g_loss: 1.3911\n",
      "Epoch [    7/   10] | d_loss: 1.1792 | g_loss: 1.4295\n",
      "Epoch [    7/   10] | d_loss: 1.2334 | g_loss: 1.0621\n",
      "Epoch [    7/   10] | d_loss: 1.1870 | g_loss: 1.2092\n",
      "Epoch [    7/   10] | d_loss: 1.2744 | g_loss: 1.0566\n",
      "Epoch [    7/   10] | d_loss: 1.2133 | g_loss: 0.9419\n",
      "Epoch [    8/   10] | d_loss: 1.2576 | g_loss: 0.9398\n",
      "Epoch [    8/   10] | d_loss: 1.0831 | g_loss: 1.0807\n",
      "Epoch [    8/   10] | d_loss: 1.1361 | g_loss: 2.9014\n",
      "Epoch [    8/   10] | d_loss: 1.1841 | g_loss: 1.5631\n",
      "Epoch [    8/   10] | d_loss: 1.3302 | g_loss: 1.1665\n",
      "Epoch [    8/   10] | d_loss: 1.1273 | g_loss: 1.5341\n",
      "Epoch [    8/   10] | d_loss: 1.2821 | g_loss: 1.0497\n",
      "Epoch [    8/   10] | d_loss: 1.1401 | g_loss: 0.9022\n",
      "Epoch [    9/   10] | d_loss: 1.3188 | g_loss: 0.7461\n",
      "Epoch [    9/   10] | d_loss: 1.1800 | g_loss: 0.9500\n",
      "Epoch [    9/   10] | d_loss: 1.2536 | g_loss: 1.5647\n",
      "Epoch [    9/   10] | d_loss: 1.2605 | g_loss: 1.1506\n",
      "Epoch [    9/   10] | d_loss: 1.1254 | g_loss: 1.4850\n",
      "Epoch [    9/   10] | d_loss: 1.2205 | g_loss: 1.5264\n",
      "Epoch [    9/   10] | d_loss: 1.1980 | g_loss: 1.2903\n",
      "Epoch [    9/   10] | d_loss: 1.3537 | g_loss: 1.1048\n",
      "Epoch [   10/   10] | d_loss: 1.3254 | g_loss: 0.9459\n",
      "Epoch [   10/   10] | d_loss: 1.1146 | g_loss: 1.3499\n",
      "Epoch [   10/   10] | d_loss: 1.1580 | g_loss: 1.0026\n",
      "Epoch [   10/   10] | d_loss: 1.3830 | g_loss: 1.0595\n",
      "Epoch [   10/   10] | d_loss: 1.4279 | g_loss: 1.3363\n",
      "Epoch [   10/   10] | d_loss: 1.0965 | g_loss: 1.3324\n",
      "Epoch [   10/   10] | d_loss: 1.1708 | g_loss: 0.9464\n",
      "Epoch [   10/   10] | d_loss: 1.3260 | g_loss: 1.1201\n"
     ]
    }
   ],
   "source": [
    "import pickle as pkl\n",
    "num_epochs = 10\n",
    "samples = []\n",
    "losses = []\n",
    "\n",
    "print_every = 400\n",
    "\n",
    "# Get some fixed data for sampling. These are images that are held\n",
    "# constant throughout training, and allow us to inspect the model's performance\n",
    "sample_size=16\n",
    "fixed_z = np.random.uniform(-1, 1, size=(sample_size, z_size))\n",
    "fixed_z = torch.from_numpy(fixed_z).float()\n",
    "\n",
    "# train the network\n",
    "D.train()\n",
    "G.train()\n",
    "for epoch in range(num_epochs):\n",
    "    \n",
    "    for batch_i, (real_images, _) in enumerate(train_loader):\n",
    "                \n",
    "        batch_size = real_images.size(0)\n",
    "        \n",
    "        # Rescaling\n",
    "        real_images = real_images*2 - 1  # rescale input images from [0,1) to [-1, 1)\n",
    "        \n",
    "    \n",
    "        ## Training Discriminator\n",
    "        d_optimizer.zero_grad()\n",
    "        \n",
    "        # 1. Train with real images\n",
    "\n",
    "        # Compute the discriminator losses on real images \n",
    "        # smooth the real labels\n",
    "        D_real = D(real_images)\n",
    "        d_real_loss = real_loss(D_real, smooth=True)\n",
    "        \n",
    "        # 2. Train with fake images\n",
    "        \n",
    "        # Generate fake images\n",
    "        z = np.random.uniform(-1, 1, size=(batch_size, z_size))\n",
    "        z = torch.from_numpy(z).float()\n",
    "        fake_images = G(z)\n",
    "        \n",
    "        # Compute the discriminator losses on fake images        \n",
    "        D_fake = D(fake_images)\n",
    "        d_fake_loss = fake_loss(D_fake)\n",
    "        \n",
    "        # add up loss and perform backprop\n",
    "        d_loss = d_real_loss + d_fake_loss\n",
    "\n",
    "        d_loss.backward()\n",
    "        d_optimizer.step()\n",
    "        \n",
    "        ## Training Generator\n",
    "        g_optimizer.zero_grad()\n",
    "        \n",
    "        # 1. Train with fake images and flipped labels\n",
    "        \n",
    "        # Generate fake images\n",
    "        z = np.random.uniform(-1, 1, size=(batch_size, z_size))\n",
    "        z = torch.from_numpy(z).float()\n",
    "        fake_images = G(z)\n",
    "        \n",
    "        # Compute the discriminator losses on fake images \n",
    "        # using flipped labels!\n",
    "        D_fake = D(fake_images)\n",
    "        g_loss = real_loss(D_fake) # use real loss to flip labels\n",
    "        \n",
    "        # perform backprop\n",
    "        g_loss.backward()\n",
    "        g_optimizer.step()\n",
    "\n",
    "        # Print some loss stats\n",
    "        if batch_i % print_every == 0:\n",
    "            # print discriminator and generator loss\n",
    "            print('Epoch [{:5d}/{:5d}] | d_loss: {:6.4f} | g_loss: {:6.4f}'.format(\n",
    "                    epoch+1, num_epochs, d_loss.item(), g_loss.item()))\n",
    "    \n",
    "    # append discriminator loss and generator loss after each epoch\n",
    "    losses.append((d_loss.item(), g_loss.item()))\n",
    "    \n",
    "    # generate and save sample, fake images\n",
    "    G.eval() # eval mode for generating samples\n",
    "    samples_z = G(fixed_z)\n",
    "    samples.append(samples_z)\n",
    "    G.train() # back to train mode\n",
    "\n",
    "\n",
    "# Save training generator samples\n",
    "with open('train_samples.pkl', 'wb') as f:\n",
    "    pkl.dump(samples, f)"
   ]
  },
  {
   "cell_type": "code",
   "execution_count": 62,
   "metadata": {},
   "outputs": [
    {
     "name": "stdout",
     "output_type": "stream",
     "text": [
      "fc2 weight after train:\n",
      "Parameter containing:\n",
      "tensor([[ 0.1274, -0.1577,  0.0449,  ...,  0.0433,  0.0215,  0.0245],\n",
      "        [-0.1498, -0.2647, -0.1922,  ...,  0.0298, -0.1263,  0.1882],\n",
      "        [-0.0083,  0.1589, -0.2408,  ...,  0.2293,  0.0111, -0.3442],\n",
      "        ...,\n",
      "        [ 0.1788,  0.2537,  0.2886,  ..., -0.3402,  0.0205,  0.2027],\n",
      "        [ 0.1836,  0.5550, -0.1506,  ...,  0.0349, -0.0100, -0.1478],\n",
      "        [ 0.4318,  0.3806, -0.2976,  ...,  0.3068, -0.1101, -0.0476]],\n",
      "       requires_grad=True)\n"
     ]
    }
   ],
   "source": [
    "# print fc2 weight\n",
    "print('fc2 weight after train:')\n",
    "print(G.fc2.weight)"
   ]
  },
  {
   "cell_type": "markdown",
   "metadata": {},
   "source": [
    "### Saving the pretrained Model"
   ]
  },
  {
   "cell_type": "code",
   "execution_count": 63,
   "metadata": {},
   "outputs": [],
   "source": [
    "torch.save(G.state_dict(), 'Generator')\n",
    "torch.save(D.state_dict(), 'Discriminator')"
   ]
  },
  {
   "cell_type": "code",
   "execution_count": 64,
   "metadata": {},
   "outputs": [],
   "source": [
    "del G\n",
    "del D\n",
    "\n",
    "# instantiate discriminator and generator\n",
    "D1 = Discriminator(input_size, d_hidden_size, d_output_size)\n",
    "G1 = Generator(z_size, g_hidden_size, g_output_size)"
   ]
  },
  {
   "cell_type": "markdown",
   "metadata": {},
   "source": [
    "### Loading weight in new model object"
   ]
  },
  {
   "cell_type": "code",
   "execution_count": 65,
   "metadata": {},
   "outputs": [
    {
     "data": {
      "text/plain": [
       "<All keys matched successfully>"
      ]
     },
     "execution_count": 65,
     "metadata": {},
     "output_type": "execute_result"
    }
   ],
   "source": [
    "# load the weight\n",
    "G1.load_state_dict(torch.load('Generator'))\n",
    "D1.load_state_dict(torch.load('Discriminator'))"
   ]
  },
  {
   "cell_type": "markdown",
   "metadata": {},
   "source": [
    "### Freezing layer 2 and 3 in both Discriminator and Generator"
   ]
  },
  {
   "cell_type": "code",
   "execution_count": 66,
   "metadata": {},
   "outputs": [],
   "source": [
    "# we want to freeze the fc2 and fc3 layer this time: only train fc1 and fc4\n",
    "G1.fc2.weight.requires_grad = False\n",
    "G1.fc2.bias.requires_grad = False\n",
    "\n",
    "G1.fc3.weight.requires_grad = False\n",
    "G1.fc3.bias.requires_grad = False\n",
    "\n",
    "D1.fc2.weight.requires_grad = False\n",
    "D1.fc2.bias.requires_grad = False\n",
    "\n",
    "D1.fc3.weight.requires_grad = False\n",
    "D1.fc3.bias.requires_grad = False"
   ]
  },
  {
   "cell_type": "markdown",
   "metadata": {},
   "source": [
    "### Training Generator and Discriminator again with fixed weights for some layers"
   ]
  },
  {
   "cell_type": "code",
   "execution_count": 69,
   "metadata": {},
   "outputs": [
    {
     "name": "stdout",
     "output_type": "stream",
     "text": [
      "Epoch [    1/   10] | d_loss: 1.2007 | g_loss: 1.0264\n",
      "Epoch [    1/   10] | d_loss: 1.2359 | g_loss: 1.0323\n",
      "Epoch [    1/   10] | d_loss: 1.1897 | g_loss: 0.8807\n",
      "Epoch [    1/   10] | d_loss: 1.2362 | g_loss: 0.8101\n",
      "Epoch [    1/   10] | d_loss: 1.2609 | g_loss: 0.7550\n",
      "Epoch [    1/   10] | d_loss: 1.1916 | g_loss: 0.9509\n",
      "Epoch [    1/   10] | d_loss: 1.1199 | g_loss: 0.9729\n",
      "Epoch [    1/   10] | d_loss: 1.1984 | g_loss: 0.7493\n",
      "Epoch [    2/   10] | d_loss: 1.3046 | g_loss: 0.8654\n",
      "Epoch [    2/   10] | d_loss: 1.1390 | g_loss: 0.9384\n",
      "Epoch [    2/   10] | d_loss: 1.2494 | g_loss: 1.0833\n",
      "Epoch [    2/   10] | d_loss: 1.2629 | g_loss: 0.8861\n",
      "Epoch [    2/   10] | d_loss: 1.1316 | g_loss: 0.9711\n",
      "Epoch [    2/   10] | d_loss: 1.2354 | g_loss: 0.8636\n",
      "Epoch [    2/   10] | d_loss: 1.2680 | g_loss: 0.7647\n",
      "Epoch [    2/   10] | d_loss: 1.2234 | g_loss: 0.8666\n",
      "Epoch [    3/   10] | d_loss: 1.2698 | g_loss: 0.8778\n",
      "Epoch [    3/   10] | d_loss: 1.3185 | g_loss: 0.8307\n",
      "Epoch [    3/   10] | d_loss: 1.1742 | g_loss: 0.8798\n",
      "Epoch [    3/   10] | d_loss: 1.0804 | g_loss: 0.9041\n",
      "Epoch [    3/   10] | d_loss: 1.3169 | g_loss: 0.7743\n",
      "Epoch [    3/   10] | d_loss: 1.2538 | g_loss: 1.0310\n",
      "Epoch [    3/   10] | d_loss: 1.1634 | g_loss: 0.9527\n",
      "Epoch [    3/   10] | d_loss: 1.5168 | g_loss: 0.7951\n",
      "Epoch [    4/   10] | d_loss: 1.1817 | g_loss: 0.8724\n",
      "Epoch [    4/   10] | d_loss: 1.2587 | g_loss: 1.0164\n",
      "Epoch [    4/   10] | d_loss: 1.1810 | g_loss: 0.8292\n",
      "Epoch [    4/   10] | d_loss: 1.1036 | g_loss: 0.7843\n",
      "Epoch [    4/   10] | d_loss: 1.3038 | g_loss: 0.9480\n",
      "Epoch [    4/   10] | d_loss: 1.3000 | g_loss: 0.9819\n",
      "Epoch [    4/   10] | d_loss: 1.3286 | g_loss: 0.8074\n",
      "Epoch [    4/   10] | d_loss: 1.3461 | g_loss: 1.0794\n",
      "Epoch [    5/   10] | d_loss: 1.2229 | g_loss: 0.9558\n",
      "Epoch [    5/   10] | d_loss: 1.2371 | g_loss: 0.9118\n",
      "Epoch [    5/   10] | d_loss: 1.0709 | g_loss: 0.9407\n",
      "Epoch [    5/   10] | d_loss: 1.0741 | g_loss: 0.7947\n",
      "Epoch [    5/   10] | d_loss: 1.2890 | g_loss: 0.8702\n",
      "Epoch [    5/   10] | d_loss: 1.2410 | g_loss: 0.9593\n",
      "Epoch [    5/   10] | d_loss: 1.3084 | g_loss: 0.8781\n",
      "Epoch [    5/   10] | d_loss: 1.2145 | g_loss: 1.0964\n",
      "Epoch [    6/   10] | d_loss: 1.1985 | g_loss: 0.9831\n",
      "Epoch [    6/   10] | d_loss: 1.2632 | g_loss: 0.9177\n",
      "Epoch [    6/   10] | d_loss: 1.2810 | g_loss: 0.7249\n",
      "Epoch [    6/   10] | d_loss: 1.1838 | g_loss: 0.7487\n",
      "Epoch [    6/   10] | d_loss: 1.2498 | g_loss: 0.9918\n",
      "Epoch [    6/   10] | d_loss: 1.2755 | g_loss: 0.8488\n",
      "Epoch [    6/   10] | d_loss: 1.2797 | g_loss: 0.8592\n",
      "Epoch [    6/   10] | d_loss: 1.3167 | g_loss: 0.9305\n",
      "Epoch [    7/   10] | d_loss: 1.2654 | g_loss: 0.8277\n",
      "Epoch [    7/   10] | d_loss: 1.3650 | g_loss: 1.0109\n",
      "Epoch [    7/   10] | d_loss: 1.2562 | g_loss: 0.9780\n",
      "Epoch [    7/   10] | d_loss: 1.1137 | g_loss: 0.9115\n",
      "Epoch [    7/   10] | d_loss: 1.1292 | g_loss: 0.8954\n",
      "Epoch [    7/   10] | d_loss: 1.1567 | g_loss: 0.8814\n",
      "Epoch [    7/   10] | d_loss: 1.2090 | g_loss: 0.8522\n",
      "Epoch [    7/   10] | d_loss: 1.0712 | g_loss: 0.9568\n",
      "Epoch [    8/   10] | d_loss: 1.2048 | g_loss: 0.7838\n",
      "Epoch [    8/   10] | d_loss: 1.3866 | g_loss: 0.9483\n",
      "Epoch [    8/   10] | d_loss: 1.2567 | g_loss: 0.8084\n",
      "Epoch [    8/   10] | d_loss: 1.0416 | g_loss: 0.9759\n",
      "Epoch [    8/   10] | d_loss: 1.3248 | g_loss: 0.9617\n",
      "Epoch [    8/   10] | d_loss: 1.3519 | g_loss: 0.8345\n",
      "Epoch [    8/   10] | d_loss: 1.1280 | g_loss: 0.8601\n",
      "Epoch [    8/   10] | d_loss: 1.1149 | g_loss: 0.8027\n",
      "Epoch [    9/   10] | d_loss: 1.2444 | g_loss: 1.0310\n",
      "Epoch [    9/   10] | d_loss: 1.1404 | g_loss: 1.0609\n",
      "Epoch [    9/   10] | d_loss: 1.1294 | g_loss: 0.9247\n",
      "Epoch [    9/   10] | d_loss: 1.0524 | g_loss: 0.7728\n",
      "Epoch [    9/   10] | d_loss: 1.2516 | g_loss: 0.9124\n",
      "Epoch [    9/   10] | d_loss: 1.2467 | g_loss: 0.9195\n",
      "Epoch [    9/   10] | d_loss: 1.2541 | g_loss: 0.9506\n",
      "Epoch [    9/   10] | d_loss: 1.3405 | g_loss: 0.8263\n",
      "Epoch [   10/   10] | d_loss: 1.2138 | g_loss: 0.9628\n",
      "Epoch [   10/   10] | d_loss: 1.2463 | g_loss: 0.8839\n",
      "Epoch [   10/   10] | d_loss: 1.2355 | g_loss: 0.9657\n",
      "Epoch [   10/   10] | d_loss: 1.3163 | g_loss: 0.9260\n",
      "Epoch [   10/   10] | d_loss: 1.1673 | g_loss: 0.8728\n",
      "Epoch [   10/   10] | d_loss: 1.2194 | g_loss: 0.8111\n",
      "Epoch [   10/   10] | d_loss: 1.3140 | g_loss: 0.9729\n",
      "Epoch [   10/   10] | d_loss: 1.3641 | g_loss: 1.0013\n"
     ]
    }
   ],
   "source": [
    "import pickle as pkl\n",
    "\n",
    "# training hyperparams\n",
    "num_epochs = 10\n",
    "\n",
    "# keep track of loss and generated, \"fake\" samples\n",
    "samples1 = []\n",
    "losses1 = []\n",
    "\n",
    "print_every = 400\n",
    "\n",
    "# Get some fixed data for sampling. These are images that are held\n",
    "# constant throughout training, and allow us to inspect the model's performance\n",
    "sample_size=16\n",
    "fixed_z = np.random.uniform(-1, 1, size=(sample_size, z_size))\n",
    "fixed_z = torch.from_numpy(fixed_z).float()\n",
    "\n",
    "# train the network\n",
    "D1.train()\n",
    "G1.train()\n",
    "for epoch in range(num_epochs):\n",
    "    \n",
    "    for batch_i, (real_images, _) in enumerate(train_loader):\n",
    "                \n",
    "        batch_size = real_images.size(0)\n",
    "        \n",
    "        #Rescaling\n",
    "        real_images = real_images*2 - 1  # rescale input images from [0,1) to [-1, 1)\n",
    "        \n",
    "\n",
    "        #Training Discriminator\n",
    "        d_optimizer.zero_grad()\n",
    "        \n",
    "        # 1. Train with real images\n",
    "        # Compute the discriminator losses on real images \n",
    "        # smooth the real labels\n",
    "        D_real = D1(real_images)\n",
    "        d_real_loss = real_loss(D_real, smooth=True)\n",
    "        \n",
    "        # 2. Train with fake images\n",
    "        \n",
    "        # Generate fake images\n",
    "        z = np.random.uniform(-1, 1, size=(batch_size, z_size))\n",
    "        z = torch.from_numpy(z).float()\n",
    "        fake_images = G1(z)\n",
    "        \n",
    "        # Compute the discriminator losses on fake images        \n",
    "        D_fake = D1(fake_images)\n",
    "        d_fake_loss = fake_loss(D_fake)\n",
    "        \n",
    "        # add up loss and perform backprop\n",
    "        d_loss = d_real_loss + d_fake_loss\n",
    "\n",
    "        d_loss.backward()\n",
    "        d_optimizer.step()\n",
    "        \n",
    "        \n",
    "        #Training Generator\n",
    "        g_optimizer.zero_grad()\n",
    "        \n",
    "        # 1. Train with fake images and flipped labels\n",
    "        \n",
    "        # Generate fake images\n",
    "        z = np.random.uniform(-1, 1, size=(batch_size, z_size))\n",
    "        z = torch.from_numpy(z).float()\n",
    "        fake_images = G1(z)\n",
    "        \n",
    "        # Compute the discriminator losses on fake images \n",
    "        # using flipped labels!\n",
    "        D_fake = D1(fake_images)\n",
    "        g_loss = real_loss(D_fake) # use real loss to flip labels\n",
    "        \n",
    "        # perform backprop\n",
    "        g_loss.backward()\n",
    "        g_optimizer.step()\n",
    "\n",
    "        # Print some loss stats\n",
    "        if batch_i % print_every == 0:\n",
    "            # print discriminator and generator loss\n",
    "            print('Epoch [{:5d}/{:5d}] | d_loss: {:6.4f} | g_loss: {:6.4f}'.format(\n",
    "                    epoch+1, num_epochs, d_loss.item(), g_loss.item()))\n",
    "    \n",
    "    # append discriminator loss and generator loss after each epoch\n",
    "    losses1.append((d_loss.item(), g_loss.item()))\n",
    "    \n",
    "    # generate and save sample, fake images\n",
    "    G1.eval() # eval mode for generating samples\n",
    "    samples_z = G1(fixed_z)\n",
    "    samples1.append(samples_z)\n",
    "    G1.train() # back to train mode\n",
    "\n",
    "\n",
    "# Save training generator samples\n",
    "with open('train_samples1.pkl', 'wb') as f:\n",
    "    pkl.dump(samples1, f)"
   ]
  },
  {
   "cell_type": "markdown",
   "metadata": {},
   "source": [
    "### Inspecting the result of generator model from both the models"
   ]
  },
  {
   "cell_type": "code",
   "execution_count": 83,
   "metadata": {},
   "outputs": [],
   "source": [
    "# helper function for viewing a list of passed in sample images\n",
    "def view_samples(epoch, samples):\n",
    "    fig, axes = plt.subplots(figsize=(7,7), nrows=1, ncols=2, sharey=True, sharex=True)\n",
    "    for ax, img in zip(axes.flatten(), samples[epoch]):\n",
    "        img = img.detach()\n",
    "        ax.xaxis.set_visible(False)\n",
    "        ax.yaxis.set_visible(False)\n",
    "        im = ax.imshow(img.reshape((28,28)), cmap='Greys_r')\n",
    "        \n",
    "        \n",
    "\n",
    "# Load samples from generator, taken while training\n",
    "with open('train_samples.pkl', 'rb') as f:\n",
    "    samples = pkl.load(f)\n",
    "\n",
    "\n",
    "# Load samples from generator, taken while training\n",
    "with open('train_samples1.pkl', 'rb') as f1:\n",
    "    samples1 = pkl.load(f1)"
   ]
  },
  {
   "cell_type": "code",
   "execution_count": 86,
   "metadata": {},
   "outputs": [
    {
     "data": {
      "image/png": "[encoded data removed]",
      "text/plain": [
       "<Figure size 504x504 with 2 Axes>"
      ]
     },
     "metadata": {
      "needs_background": "light"
     },
     "output_type": "display_data"
    },
    {
     "data": {
      "image/png": "[encoded data removed]",
      "text/plain": [
       "<Figure size 504x504 with 2 Axes>"
      ]
     },
     "metadata": {
      "needs_background": "light"
     },
     "output_type": "display_data"
    },
    {
     "data": {
      "image/png": "[encoded data removed]",
      "text/plain": [
       "<Figure size 504x504 with 2 Axes>"
      ]
     },
     "metadata": {
      "needs_background": "light"
     },
     "output_type": "display_data"
    },
    {
     "data": {
      "image/png": "[encoded data removed]",
      "text/plain": [
       "<Figure size 504x504 with 2 Axes>"
      ]
     },
     "metadata": {
      "needs_background": "light"
     },
     "output_type": "display_data"
    },
    {
     "data": {
      "image/png": "[encoded data removed]",
      "text/plain": [
       "<Figure size 504x504 with 2 Axes>"
      ]
     },
     "metadata": {
      "needs_background": "light"
     },
     "output_type": "display_data"
    },
    {
     "data": {
      "image/png": "[encoded data removed]",
      "text/plain": [
       "<Figure size 504x504 with 2 Axes>"
      ]
     },
     "metadata": {
      "needs_background": "light"
     },
     "output_type": "display_data"
    },
    {
     "data": {
      "image/png": "[encoded data removed]",
      "text/plain": [
       "<Figure size 504x504 with 2 Axes>"
      ]
     },
     "metadata": {
      "needs_background": "light"
     },
     "output_type": "display_data"
    },
    {
     "data": {
      "image/png": "[encoded data removed]",
      "text/plain": [
       "<Figure size 504x504 with 2 Axes>"
      ]
     },
     "metadata": {
      "needs_background": "light"
     },
     "output_type": "display_data"
    },
    {
     "data": {
      "image/png": "[encoded data removed]",
      "text/plain": [
       "<Figure size 504x504 with 2 Axes>"
      ]
     },
     "metadata": {
      "needs_background": "light"
     },
     "output_type": "display_data"
    },
    {
     "data": {
      "image/png": "[encoded data removed]",
      "text/plain": [
       "<Figure size 504x504 with 2 Axes>"
      ]
     },
     "metadata": {
      "needs_background": "light"
     },
     "output_type": "display_data"
    },
    {
     "data": {
      "image/png": "[encoded data removed]",
      "text/plain": [
       "<Figure size 504x504 with 2 Axes>"
      ]
     },
     "metadata": {
      "needs_background": "light"
     },
     "output_type": "display_data"
    },
    {
     "data": {
      "image/png": "[encoded data removed]",
      "text/plain": [
       "<Figure size 504x504 with 2 Axes>"
      ]
     },
     "metadata": {
      "needs_background": "light"
     },
     "output_type": "display_data"
    },
    {
     "data": {
      "image/png": "[encoded data removed]",
      "text/plain": [
       "<Figure size 504x504 with 2 Axes>"
      ]
     },
     "metadata": {
      "needs_background": "light"
     },
     "output_type": "display_data"
    },
    {
     "data": {
      "image/png": "[encoded data removed]",
      "text/plain": [
       "<Figure size 504x504 with 2 Axes>"
      ]
     },
     "metadata": {
      "needs_background": "light"
     },
     "output_type": "display_data"
    },
    {
     "data": {
      "image/png": "[encoded data removed]",
      "text/plain": [
       "<Figure size 504x504 with 2 Axes>"
      ]
     },
     "metadata": {
      "needs_background": "light"
     },
     "output_type": "display_data"
    },
    {
     "data": {
      "image/png": "[encoded data removed]",
      "text/plain": [
       "<Figure size 504x504 with 2 Axes>"
      ]
     },
     "metadata": {
      "needs_background": "light"
     },
     "output_type": "display_data"
    },
    {
     "data": {
      "image/png": "[encoded data removed]",
      "text/plain": [
       "<Figure size 504x504 with 2 Axes>"
      ]
     },
     "metadata": {
      "needs_background": "light"
     },
     "output_type": "display_data"
    },
    {
     "data": {
      "image/png": "[encoded data removed]",
      "text/plain": [
       "<Figure size 504x504 with 2 Axes>"
      ]
     },
     "metadata": {
      "needs_background": "light"
     },
     "output_type": "display_data"
    }
   ],
   "source": [
    "for i in range(1, epoch+1):\n",
    "    view_samples(i, samples)\n",
    "    view_samples(i, samples1)\n",
    "    i+= 2"
   ]
  },
  {
   "cell_type": "markdown",
   "metadata": {},
   "source": [
    "### Visualising Loss function"
   ]
  },
  {
   "cell_type": "code",
   "execution_count": 68,
   "metadata": {},
   "outputs": [
    {
     "data": {
      "text/plain": [
       "<matplotlib.legend.Legend at 0x2d5a35cfe80>"
      ]
     },
     "execution_count": 68,
     "metadata": {},
     "output_type": "execute_result"
    },
    {
     "data": {
      "image/png": "[encoded data removed]",
      "text/plain": [
       "<Figure size 432x288 with 1 Axes>"
      ]
     },
     "metadata": {
      "needs_background": "light"
     },
     "output_type": "display_data"
    }
   ],
   "source": [
    "fig, ax = plt.subplots()\n",
    "losses1 = np.array(losses1)\n",
    "losses = np.array(losses)\n",
    "plt.plot(losses1.T[0], label='Discriminator1')\n",
    "plt.plot(losses1.T[1], label='Generator1')\n",
    "plt.plot(losses.T[0], label='Discriminator')\n",
    "plt.plot(losses.T[1], label='Generator')\n",
    "plt.title(\"Training Losses\")\n",
    "plt.legend()"
   ]
  },
  {
   "cell_type": "markdown",
   "metadata": {},
   "source": [
    "### Result and Conclusion\n",
    "Using a pretrained weight in GAN doesnt work same way as it works in classification tasks as extremal layer of Generator and Discriminator which should be learned during training are on the opposite side.\n",
    "1. With the pretrained model we can see that the model has reached the minima of loss function has reached pretty fast, whereas when we trained the model it took some time to converge. \n",
    "2. When we freeze the weights of some layers then there is no sudden increase in jump of losses as it is not freeze version."
   ]
  },
  {
   "cell_type": "markdown",
   "metadata": {},
   "source": [
    "### Other Approaches \n",
    "1. We can try to train these extremal layer directly against each other, by by-passing all the intermediate layers as given in the paper \"Mind2Mind : transfer learning for GANs\"\n",
    "\n",
    "2. Increasing a discriminator efficiency by extracting useful feature from tranfer learning like VGG pre-trianing network, this provides the discriminator with new training target, by this Discriminator can learn best features that can help it in distinguishing."
   ]
  },
  {
   "cell_type": "code",
   "execution_count": null,
   "metadata": {},
   "outputs": [],
   "source": []
  }
 ],
 "metadata": {
  "kernelspec": {
   "display_name": "Python 3",
   "language": "python",
   "name": "python3"
  },
  "language_info": {
   "codemirror_mode": {
    "name": "ipython",
    "version": 3
   },
   "file_extension": ".py",
   "mimetype": "text/x-python",
   "name": "python",
   "nbconvert_exporter": "python",
   "pygments_lexer": "ipython3",
   "version": "3.8.3"
  }
 },
 "nbformat": 4,
 "nbformat_minor": 4
}
