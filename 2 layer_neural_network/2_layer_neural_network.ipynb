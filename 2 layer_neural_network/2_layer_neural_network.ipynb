{
 "cells": [
  {
   "cell_type": "code",
   "execution_count": 90,
   "metadata": {},
   "outputs": [],
   "source": [
    "# Great Articles by Javier Ideami - must read\n",
    "# https://towardsdatascience.com/coding-a-2-layer-neural-network-from-scratch-in-python-4dd022d19fd2\n",
    "# https://towardsdatascience.com/predict-malignancy-in-breast-cancer-tumors-with-your-own-neural-network-and-the-wisconsin-dataset-76271a05e941\n",
    "# https://github.com/javismiles/Deep-Learning-predicting-breast-cancer-tumor-malignancy\n",
    "import numpy as np \n",
    "import pandas as pd \n",
    "import matplotlib.pyplot as plt\n",
    "from sklearn import preprocessing\n",
    "from sklearn.preprocessing import MinMaxScaler\n",
    "from sklearn import metrics\n",
    "from sklearn.metrics import confusion_matrix\n",
    "import itertools"
   ]
  },
  {
   "cell_type": "code",
   "execution_count": 91,
   "metadata": {},
   "outputs": [],
   "source": [
    "# X input variable\n",
    "# Y output variable\n",
    "# Yh: Holds the output that our network produces. It should have the same dimensions than Y, our desired target values. We initialize it to zero\n",
    "# L = layers\n",
    "# dims = how many neurons are there in each layer - 1 layer has 9, 2nd one has 15 adn 3rd has 1.\n",
    "# param : W and b for each layer\n",
    "# ch: a cache variable, a python dictionary that will hold some intermediate calculations that we will need during the backward pass of the gradient descent algorithm.\n",
    "# sam: The number of training samples we have.\n",
    "# loss: An array where we will store the loss value of the network every x iterations\n",
    "# calculating activation function\n",
    "def Sigmoid(Z):\n",
    "    return 1/(1+np.exp(-Z))\n",
    "\n",
    "def Relu(Z):\n",
    "    return np.maximum(0,Z)\n",
    "\n",
    "# for backpropogation, check the article metioned in first line.\n",
    "def dRelu(x):\n",
    "    x[x<=0] = 0\n",
    "    x[x>0] = 1\n",
    "    return x\n",
    "\n",
    "def dSigmoid(Z):\n",
    "    s = 1/(1+np.exp(-Z))\n",
    "    dZ = s * (1-s)\n",
    "    return dZ\n",
    "\n",
    "class dlnet:\n",
    "    def __init__(self, x, y):\n",
    "        self.X=x\n",
    "        self.Y=y\n",
    "        self.Yh=np.zeros((1,self.Y.shape[1]))\n",
    "        \n",
    "        #check the confusion matrix cell\n",
    "        self.threshold=0.9\n",
    "        \n",
    "        self.L=2\n",
    "        self.dims = [9, 15, 1]\n",
    "        self.param = {}\n",
    "        self.ch = {}\n",
    "        self.grad = {}\n",
    "        self.loss = []\n",
    "        self.lr=0.003\n",
    "        self.sam = self.Y.shape[1]\n",
    "        \n",
    "    #initializing the weight and biases for both the layers.\n",
    "    # W1: The number of rows is the number of hidden units of that layer, dims[1], and the number of columns is the number of features/rows of the previous layer (in this case X, our input data), dims[0].\n",
    "    # b1: Same number of rows as W1 and a single column.\n",
    "    def nInit(self):    \n",
    "        np.random.seed(1)\n",
    "        self.param['W1'] = np.random.randn(self.dims[1], self.dims[0]) / np.sqrt(self.dims[0]) \n",
    "        self.param['b1'] = np.zeros((self.dims[1], 1))        \n",
    "        self.param['W2'] = np.random.randn(self.dims[2], self.dims[1]) / np.sqrt(self.dims[1]) \n",
    "        self.param['b2'] = np.zeros((self.dims[2], 1))                \n",
    "        return\n",
    "\n",
    "    # First we multily the inputs with weight W1(layer 1 weights) and add a bias,\n",
    "    # so in W's first column will have all weight connection of 1st neuron to all the second layer neurons, and 2nd\n",
    "    # column will have the weights of 2nd neuron to all the second layer.\n",
    "    # so, to get the 1st neuron of 2nd layer, we are adding(weight * x) all previous layer neuron that are coming to that neurons.\n",
    "    # then we apply the activation function on top of it.\n",
    "    # we do the same for 2nd layer, but this time, we are multipying with it with the output we got it from previous\n",
    "    # layer, i.e. W1\n",
    "    # We just ran our input data through the network and produced Yh, an output.\n",
    "    def forward(self):    \n",
    "        Z1 = self.param['W1'].dot(self.X) + self.param['b1'] \n",
    "        A1 = Relu(Z1)\n",
    "        self.ch['Z1'],self.ch['A1']=Z1,A1\n",
    "\n",
    "        Z2 = self.param['W2'].dot(A1) + self.param['b2']  \n",
    "        A2 = Sigmoid(Z2)\n",
    "        self.ch['Z2'],self.ch['A2']=Z2,A2\n",
    "        self.Yh=A2\n",
    "        loss=self.nloss(A2)\n",
    "        return self.Yh, loss\n",
    "\n",
    "    # Cross-entropy is a great loss function for classification problems (like the one we will work on)\n",
    "    # because it strongly penalizes predictions that are confident and yet wrong (like predicting with \n",
    "    # high confidence that a tumor is malign when in fact it is benign)\n",
    "    def nloss(self,Yh):\n",
    "        loss = (1./self.sam) * (-np.dot(self.Y,np.log(Yh).T) - np.dot(1-self.Y, np.log(1-Yh).T))    \n",
    "        return loss\n",
    "    \n",
    "    \n",
    "    def backward(self):\n",
    "        dLoss_Yh = - (np.divide(self.Y, self.Yh ) - np.divide(1 - self.Y, 1 - self.Yh))    \n",
    "\n",
    "        dLoss_Z2 = dLoss_Yh * dSigmoid(self.ch['Z2'])    \n",
    "        dLoss_A1 = np.dot(self.param[\"W2\"].T,dLoss_Z2)\n",
    "        dLoss_W2 = 1./self.ch['A1'].shape[1] * np.dot(dLoss_Z2,self.ch['A1'].T)\n",
    "        dLoss_b2 = 1./self.ch['A1'].shape[1] * np.dot(dLoss_Z2, np.ones([dLoss_Z2.shape[1],1])) \n",
    "\n",
    "        dLoss_Z1 = dLoss_A1 * dRelu(self.ch['Z1'])        \n",
    "        dLoss_A0 = np.dot(self.param[\"W1\"].T,dLoss_Z1)\n",
    "        dLoss_W1 = 1./self.X.shape[1] * np.dot(dLoss_Z1,self.X.T)\n",
    "        dLoss_b1 = 1./self.X.shape[1] * np.dot(dLoss_Z1, np.ones([dLoss_Z1.shape[1],1]))  \n",
    "\n",
    "        self.param[\"W1\"] = self.param[\"W1\"] - self.lr * dLoss_W1\n",
    "        self.param[\"b1\"] = self.param[\"b1\"] - self.lr * dLoss_b1\n",
    "        self.param[\"W2\"] = self.param[\"W2\"] - self.lr * dLoss_W2\n",
    "        self.param[\"b2\"] = self.param[\"b2\"] - self.lr * dLoss_b2\n",
    "\n",
    "    # defining gradient descent\n",
    "    def gd(self,X, Y, iter = 3000):\n",
    "        np.random.seed(1)                         \n",
    "        self.nInit()\n",
    "        for i in range(0, iter):\n",
    "            Yh, loss=self.forward()\n",
    "            self.backward()\n",
    "            if i % 500 == 0:\n",
    "                print (\"Cost after iteration %i: %f\" %(i, loss))\n",
    "                self.loss.append(loss)\n",
    "        return\n",
    "    \n",
    "    def pred(self,x, y):  \n",
    "        self.X=x\n",
    "        self.Y=y\n",
    "        comp = np.zeros((1,x.shape[1]))\n",
    "        pred, loss= self.forward()    \n",
    "\n",
    "        for i in range(0, pred.shape[1]):\n",
    "#            if pred[0,i] > 0.5: comp[0,i] = 1\n",
    "            if pred[0,i] > self.threshold: comp[0,i] = 1\n",
    "            else: comp[0,i] = 0\n",
    "\n",
    "        print(\"Acc: \" + str(np.sum((comp == y)/x.shape[1])))\n",
    "\n",
    "        return comp"
   ]
  },
  {
   "cell_type": "code",
   "execution_count": 92,
   "metadata": {},
   "outputs": [
    {
     "data": {
      "text/html": [
       "<div>\n",
       "<style scoped>\n",
       "    .dataframe tbody tr th:only-of-type {\n",
       "        vertical-align: middle;\n",
       "    }\n",
       "\n",
       "    .dataframe tbody tr th {\n",
       "        vertical-align: top;\n",
       "    }\n",
       "\n",
       "    .dataframe thead th {\n",
       "        text-align: right;\n",
       "    }\n",
       "</style>\n",
       "<table border=\"1\" class=\"dataframe\">\n",
       "  <thead>\n",
       "    <tr style=\"text-align: right;\">\n",
       "      <th></th>\n",
       "      <th>0</th>\n",
       "      <th>1</th>\n",
       "      <th>2</th>\n",
       "      <th>3</th>\n",
       "      <th>4</th>\n",
       "      <th>5</th>\n",
       "      <th>6</th>\n",
       "      <th>7</th>\n",
       "      <th>8</th>\n",
       "      <th>9</th>\n",
       "      <th>10</th>\n",
       "    </tr>\n",
       "  </thead>\n",
       "  <tbody>\n",
       "    <tr>\n",
       "      <td>0</td>\n",
       "      <td>1000025</td>\n",
       "      <td>5</td>\n",
       "      <td>1</td>\n",
       "      <td>1</td>\n",
       "      <td>1</td>\n",
       "      <td>2</td>\n",
       "      <td>1</td>\n",
       "      <td>3</td>\n",
       "      <td>1</td>\n",
       "      <td>1</td>\n",
       "      <td>2</td>\n",
       "    </tr>\n",
       "    <tr>\n",
       "      <td>1</td>\n",
       "      <td>1002945</td>\n",
       "      <td>5</td>\n",
       "      <td>4</td>\n",
       "      <td>4</td>\n",
       "      <td>5</td>\n",
       "      <td>7</td>\n",
       "      <td>10</td>\n",
       "      <td>3</td>\n",
       "      <td>2</td>\n",
       "      <td>1</td>\n",
       "      <td>2</td>\n",
       "    </tr>\n",
       "    <tr>\n",
       "      <td>2</td>\n",
       "      <td>1015425</td>\n",
       "      <td>3</td>\n",
       "      <td>1</td>\n",
       "      <td>1</td>\n",
       "      <td>1</td>\n",
       "      <td>2</td>\n",
       "      <td>2</td>\n",
       "      <td>3</td>\n",
       "      <td>1</td>\n",
       "      <td>1</td>\n",
       "      <td>2</td>\n",
       "    </tr>\n",
       "    <tr>\n",
       "      <td>3</td>\n",
       "      <td>1016277</td>\n",
       "      <td>6</td>\n",
       "      <td>8</td>\n",
       "      <td>8</td>\n",
       "      <td>1</td>\n",
       "      <td>3</td>\n",
       "      <td>4</td>\n",
       "      <td>3</td>\n",
       "      <td>7</td>\n",
       "      <td>1</td>\n",
       "      <td>2</td>\n",
       "    </tr>\n",
       "    <tr>\n",
       "      <td>4</td>\n",
       "      <td>1017023</td>\n",
       "      <td>4</td>\n",
       "      <td>1</td>\n",
       "      <td>1</td>\n",
       "      <td>3</td>\n",
       "      <td>2</td>\n",
       "      <td>1</td>\n",
       "      <td>3</td>\n",
       "      <td>1</td>\n",
       "      <td>1</td>\n",
       "      <td>2</td>\n",
       "    </tr>\n",
       "  </tbody>\n",
       "</table>\n",
       "</div>"
      ],
      "text/plain": [
       "        0   1   2   3   4   5   6   7   8   9   10\n",
       "0  1000025   5   1   1   1   2   1   3   1   1   2\n",
       "1  1002945   5   4   4   5   7  10   3   2   1   2\n",
       "2  1015425   3   1   1   1   2   2   3   1   1   2\n",
       "3  1016277   6   8   8   1   3   4   3   7   1   2\n",
       "4  1017023   4   1   1   3   2   1   3   1   1   2"
      ]
     },
     "execution_count": 92,
     "metadata": {},
     "output_type": "execute_result"
    }
   ],
   "source": [
    "# The following 9 columns are features that express different types of information \n",
    "# connected to the detected tumors. They represent data related to: Clump Thickness, \n",
    "# Uniformity of Cell Size, Uniformity of Cell Shape, Marginal Adhesion, Single Epithelial Cell Size,\n",
    "# Bare Nuclei, Bland Chromatin, Normal Nucleoli and Mitoses.\n",
    "\n",
    "# The last column is the class of the tumor and it has two possible values: 2 means that the tumor was\n",
    "# found to be benign. 4 means that it was found to be malignant.\n",
    "\n",
    "# The input to the network will be made of the 9 features, the 9 columns that express different features\n",
    "# of the tumors.\n",
    "\n",
    "df = pd.read_csv('breast-cancer-wisconsin.csv',header=None)\n",
    "df.head(5)"
   ]
  },
  {
   "cell_type": "code",
   "execution_count": 93,
   "metadata": {},
   "outputs": [],
   "source": [
    "#We proceed to do these changes. First, we change the class values (at the column number 10) \n",
    "# from 2 to 0 and from 4 to 1\n",
    "df.iloc[:,10].replace(2, 0,inplace=True)\n",
    "df.iloc[:,10].replace(4, 1,inplace=True)\n",
    "# Then we proceed to eliminate all rows that hold missing values (represented by the ? character) at\n",
    "# column 6, which we have identified as the column that holds them.\n",
    "df = df[~df[6].isin(['?'])]\n",
    "# converting dataframe to float\n",
    "df = df.astype(float)"
   ]
  },
  {
   "cell_type": "code",
   "execution_count": 94,
   "metadata": {},
   "outputs": [],
   "source": [
    "#Data normalization is a key first step within the feature engineering phase of deep learning processes.\n",
    "# so that all data will come btw 0 to 1 range.\n",
    "names = df.columns[0:10]\n",
    "scaler = MinMaxScaler() \n",
    "scaled_df = scaler.fit_transform(df.iloc[:,0:10]) \n",
    "scaled_df = pd.DataFrame(scaled_df, columns=names)"
   ]
  },
  {
   "cell_type": "code",
   "execution_count": 95,
   "metadata": {},
   "outputs": [
    {
     "data": {
      "text/plain": [
       "<matplotlib.axes._subplots.AxesSubplot at 0x171d4eebb48>"
      ]
     },
     "execution_count": 95,
     "metadata": {},
     "output_type": "execute_result"
    },
    {
     "data": {
      "image/png": "[encoded data removed]",
      "text/plain": [
       "<Figure size 432x288 with 1 Axes>"
      ]
     },
     "metadata": {
      "needs_background": "light"
     },
     "output_type": "display_data"
    },
    {
     "data": {
      "image/png": "[encoded data removed]",
      "text/plain": [
       "<Figure size 432x288 with 1 Axes>"
      ]
     },
     "metadata": {
      "needs_background": "light"
     },
     "output_type": "display_data"
    }
   ],
   "source": [
    "# Then we have to check, whether all the 9 features are useful or not.\n",
    "scaled_df[10]= df[10]\n",
    "scaled_df.iloc[0:13,1:11].plot.bar();\n",
    "scaled_df.iloc[0:13,1:11].plot.hist(alpha=0.5)"
   ]
  },
  {
   "cell_type": "code",
   "execution_count": 96,
   "metadata": {},
   "outputs": [],
   "source": [
    "#three sets of data :\n",
    "#Deep learning practitioner typically takes into account three kinds of data-sets:\n",
    "#Training set: the data you use to train the network. It contains the input features and the target labels.\n",
    "#Validation set: a separate, different batch of data, which should ideally come from the same distribution\n",
    "# than the training set. You will use it to verify the quality of the training. The validation set has as well\n",
    "#target labels.\n",
    "#Test set: another separate batch of data, used to test the network with fresh related data that ideally comes\n",
    "#from the same distribution than the validation set. Typically, the test set doesn’t come with target labels.\n",
    "#***** To estimate the quality of the training of your network, it is useful to compare the performance of\n",
    "#your training and validation sets:\n",
    "# Ideally you want to get similar performance in both data-sets - loss value achieved on the validation set\n",
    "# improves and then starts to get worse, the network is over-fitting\n",
    "# The opposite of over-fitting is under-fitting, when the training performance of the network is not good enough\n",
    "# and we obtain loss values that are too high in both the training and validation sets\n",
    "\n",
    "# In general, realize that success with the validation set is your real target.\n",
    "\n",
    "# diving the data into training and validation set, notice we removed first column as it is a patient ID\n",
    "x=scaled_df.iloc[0:500,1:10].values.transpose()\n",
    "y=df.iloc[0:500,10:].values.transpose()\n",
    "\n",
    "xval=scaled_df.iloc[501:683,1:10].values.transpose()\n",
    "yval=df.iloc[501:683,10:].values.transpose()"
   ]
  },
  {
   "cell_type": "code",
   "execution_count": 97,
   "metadata": {},
   "outputs": [
    {
     "name": "stdout",
     "output_type": "stream",
     "text": [
      "Cost after iteration 0: 0.673967\n",
      "Cost after iteration 500: 0.388928\n",
      "Cost after iteration 1000: 0.231340\n",
      "Cost after iteration 1500: 0.171447\n",
      "Cost after iteration 2000: 0.146433\n",
      "Cost after iteration 2500: 0.133993\n",
      "Cost after iteration 3000: 0.126808\n",
      "Cost after iteration 3500: 0.122107\n",
      "Cost after iteration 4000: 0.118650\n",
      "Cost after iteration 4500: 0.116027\n",
      "Cost after iteration 5000: 0.113934\n",
      "Cost after iteration 5500: 0.112221\n",
      "Cost after iteration 6000: 0.110783\n",
      "Cost after iteration 6500: 0.109546\n",
      "Cost after iteration 7000: 0.108474\n",
      "Cost after iteration 7500: 0.107537\n",
      "Cost after iteration 8000: 0.106710\n",
      "Cost after iteration 8500: 0.105977\n",
      "Cost after iteration 9000: 0.105317\n",
      "Cost after iteration 9500: 0.104718\n",
      "Cost after iteration 10000: 0.104174\n",
      "Cost after iteration 10500: 0.103674\n",
      "Cost after iteration 11000: 0.103216\n",
      "Cost after iteration 11500: 0.102785\n",
      "Cost after iteration 12000: 0.102377\n",
      "Cost after iteration 12500: 0.101980\n",
      "Cost after iteration 13000: 0.101604\n",
      "Cost after iteration 13500: 0.101251\n",
      "Cost after iteration 14000: 0.100912\n",
      "Cost after iteration 14500: 0.100592\n"
     ]
    }
   ],
   "source": [
    "nn = dlnet(x,y)\n",
    "nn.lr=0.01\n",
    "nn.dims = [9, 15, 1]\n",
    "nn.gd(x, y, iter = 15000)"
   ]
  },
  {
   "cell_type": "code",
   "execution_count": 98,
   "metadata": {},
   "outputs": [
    {
     "name": "stdout",
     "output_type": "stream",
     "text": [
      "Acc: 0.9260000000000003\n",
      "Acc: 0.989010989010989\n"
     ]
    }
   ],
   "source": [
    "# Our network seems to have trained quite well, reaching a low loss value (the distance \n",
    "# between our predictions and the target outputs is low). But, how good is it? and most importantly,\n",
    "# how good is it, not just on the whole training set, but way more important, on our validation set?\n",
    "\n",
    "# To find out, we create a new function, pred(), that runs a set of inputs through the network and then\n",
    "# compares systematically every obtained output to its corresponding target output in order to produce an average accuracy value.\n",
    "\n",
    "# We are doing binary classification and by default we consider that output values that are above 0.5 mean that the result\n",
    "# belongs to one of the classes, and vice-versa\n",
    "pred_train = nn.pred(x, y)\n",
    "pred_test = nn.pred(xval, yval)\n"
   ]
  },
  {
   "cell_type": "code",
   "execution_count": 99,
   "metadata": {},
   "outputs": [],
   "source": [
    "# One great way to analyze the accuracy is by plotting a confusion matrix. First, we declare a custom \n",
    "# plotting function.\n",
    "def plotCf(a,b,t):\n",
    "    cf =confusion_matrix(a,b)\n",
    "    plt.imshow(cf,cmap=plt.cm.Blues,interpolation='nearest')\n",
    "    plt.colorbar()\n",
    "    plt.title(t)\n",
    "    plt.xlabel('Predicted')\n",
    "    plt.ylabel('Actual')\n",
    "    tick_marks = np.arange(len(y)) # length of classes\n",
    "    class_labels = ['0','1']\n",
    "    tick_marks\n",
    "    plt.xticks(tick_marks,class_labels)\n",
    "    plt.yticks(tick_marks,class_labels)\n",
    "    # plotting text value inside cells\n",
    "    thresh = cf.max() / 2.\n",
    "    for i,j in itertools.product(range(cf.shape[0]),range(cf.shape[1])):\n",
    "        plt.text(j,i,format(cf[i,j],'d'),horizontalalignment='center',color='white' if cf[i,j] >thresh else 'black')\n",
    "    plt.show()"
   ]
  },
  {
   "cell_type": "code",
   "execution_count": 100,
   "metadata": {},
   "outputs": [
    {
     "name": "stdout",
     "output_type": "stream",
     "text": [
      "Acc: 0.9260000000000003\n"
     ]
    },
    {
     "data": {
      "image/png": "[encoded data removed]",
      "text/plain": [
       "<Figure size 432x288 with 2 Axes>"
      ]
     },
     "metadata": {
      "needs_background": "light"
     },
     "output_type": "display_data"
    },
    {
     "name": "stdout",
     "output_type": "stream",
     "text": [
      "Acc: 0.989010989010989\n"
     ]
    },
    {
     "data": {
      "image/png": "[encoded data removed]",
      "text/plain": [
       "<Figure size 432x288 with 2 Axes>"
      ]
     },
     "metadata": {
      "needs_background": "light"
     },
     "output_type": "display_data"
    }
   ],
   "source": [
    "nn.X,nn.Y=x, y \n",
    "target=np.around(np.squeeze(y), decimals=0).astype(np.int)\n",
    "predicted=np.around(np.squeeze(nn.pred(x,y)), decimals=0).astype(np.int)\n",
    "plotCf(target,predicted,'Cf Training Set')\n",
    "\n",
    "nn.X,nn.Y=xval, yval \n",
    "target=np.around(np.squeeze(yval), decimals=0).astype(np.int)\n",
    "predicted=np.around(np.squeeze(nn.pred(xval,yval)), decimals=0).astype(np.int)\n",
    "plotCf(target,predicted,'Cf Validation Set')"
   ]
  },
  {
   "cell_type": "code",
   "execution_count": 101,
   "metadata": {},
   "outputs": [],
   "source": [
    "# We can see even more clearly that our validation set has perfect accuracy on its 183 samples. \n",
    "# As for the training set, there are 19 mistakes among the 500 samples.\n",
    "\n",
    "#****  setting our prediction to be 1 if the sigmoid output gives a value above 0.5 is not really good. The \n",
    "# network should be really confident before giving a prediction of malignancy.\n",
    "# create a new variable called threshold. It will control our confidence threshold, how close to 1 the\n",
    "# output of the network needs to be before we decide that a tumor is malignant, By default we set it to 0.5\n",
    "\n",
    "#can chage the value of threshold and see, what gives us better result and we can set threshold depending on\n",
    "# the application\n",
    "\n",
    "#lets take the value of threshold as 0.9\n",
    "\n"
   ]
  },
  {
   "cell_type": "code",
   "execution_count": null,
   "metadata": {},
   "outputs": [],
   "source": []
  }
 ],
 "metadata": {
  "kernelspec": {
   "display_name": "Python 3",
   "language": "python",
   "name": "python3"
  },
  "language_info": {
   "codemirror_mode": {
    "name": "ipython",
    "version": 3
   },
   "file_extension": ".py",
   "mimetype": "text/x-python",
   "name": "python",
   "nbconvert_exporter": "python",
   "pygments_lexer": "ipython3",
   "version": "3.7.4"
  }
 },
 "nbformat": 4,
 "nbformat_minor": 2
}
