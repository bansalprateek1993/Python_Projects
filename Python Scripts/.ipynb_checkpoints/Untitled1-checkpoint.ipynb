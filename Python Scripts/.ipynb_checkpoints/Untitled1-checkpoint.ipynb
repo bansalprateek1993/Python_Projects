{
 "cells": [
  {
   "cell_type": "code",
   "execution_count": null,
   "metadata": {},
   "outputs": [],
   "source": [
    "# Import socket module \n",
    "import socket                \n",
    "  \n",
    "# Create a socket object \n",
    "s = socket.socket()          \n",
    "  \n",
    "# Define the port on which you want to connect \n",
    "port = 12345                \n",
    "  \n",
    "# connect to the server on local computer \n",
    "s.connect(('127.0.0.1', port)) \n",
    "  \n",
    "# receive data from the server \n",
    "print(s.recv(1024))\n",
    "# close the connection \n",
    "s.close() "
   ]
  }
 ],
 "metadata": {
  "kernelspec": {
   "display_name": "Python 3",
   "language": "python",
   "name": "python3"
  },
  "language_info": {
   "codemirror_mode": {
    "name": "ipython",
    "version": 3
   },
   "file_extension": ".py",
   "mimetype": "text/x-python",
   "name": "python",
   "nbconvert_exporter": "python",
   "pygments_lexer": "ipython3",
   "version": "3.7.4"
  }
 },
 "nbformat": 4,
 "nbformat_minor": 2
}
