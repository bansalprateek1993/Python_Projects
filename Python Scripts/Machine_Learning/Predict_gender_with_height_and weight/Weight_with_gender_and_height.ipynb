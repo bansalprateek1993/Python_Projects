{
 "cells": [
  {
   "cell_type": "code",
   "execution_count": 1,
   "metadata": {},
   "outputs": [],
   "source": [
    "import pandas as pd"
   ]
  },
  {
   "cell_type": "code",
   "execution_count": 9,
   "metadata": {},
   "outputs": [],
   "source": [
    "dataset = pd.read_csv(\"weight-height.csv\");"
   ]
  },
  {
   "cell_type": "code",
   "execution_count": 10,
   "metadata": {},
   "outputs": [
    {
     "name": "stdout",
     "output_type": "stream",
     "text": [
      "<class 'pandas.core.frame.DataFrame'>\n",
      "RangeIndex: 10000 entries, 0 to 9999\n",
      "Data columns (total 3 columns):\n",
      "Gender    10000 non-null object\n",
      "Height    10000 non-null float64\n",
      "Weight    10000 non-null float64\n",
      "dtypes: float64(2), object(1)\n",
      "memory usage: 234.5+ KB\n"
     ]
    },
    {
     "data": {
      "text/plain": [
       "Gender    0\n",
       "Height    0\n",
       "Weight    0\n",
       "dtype: int64"
      ]
     },
     "execution_count": 10,
     "metadata": {},
     "output_type": "execute_result"
    }
   ],
   "source": [
    "#Analyzing dataset\n",
    "dataset.info()\n",
    "# The describe method displays basic statistical information on the numerical values of the dataset like mean,\n",
    "# standard deviation, percentile, min and max.\n",
    "dataset.describe()\n",
    "#This method is basically used to check if there are any null values in the dataset.\n",
    "#This will list number of null values in each column\n",
    "dataset.isnull().sum()"
   ]
  },
  {
   "cell_type": "code",
   "execution_count": 40,
   "metadata": {},
   "outputs": [
    {
     "name": "stdout",
     "output_type": "stream",
     "text": [
      "      Gender     Height      Weight\n",
      "0          1  73.847017  241.893563\n",
      "1          1  68.781904  162.310473\n",
      "2          1  74.110105  212.740856\n",
      "3          1  71.730978  220.042470\n",
      "4          1  69.881796  206.349801\n",
      "...      ...        ...         ...\n",
      "9995       0  66.172652  136.777454\n",
      "9996       0  67.067155  170.867906\n",
      "9997       0  63.867992  128.475319\n",
      "9998       0  69.034243  163.852461\n",
      "9999       0  61.944246  113.649103\n",
      "\n",
      "[10000 rows x 3 columns]\n"
     ]
    }
   ],
   "source": [
    "# Need to convert gender to number i.e. categroical data to numerical values.\n",
    "# If a categorical field has 2 values — there are 2 ways for us to do this \n",
    "# 1.Use LabelEncoder\n",
    "\n",
    "#X = dataset.iloc[:, :-1].values\n",
    "#y = dataset.iloc[:, 2].values\n",
    "#from sklearn.preprocessing import LabelEncoder\n",
    "#labelEncoder_gender =  LabelEncoder()\n",
    "#X[:,0] = labelEncoder_gender.fit_transform(X[:,0])\n",
    "\n",
    "\n",
    "# 2. Replace directly in dataframe\n",
    "dataset['Gender'].replace('Female',0,inplace=True)\n",
    "dataset['Gender'].replace('Male',1,inplace=True)\n",
    "X = dataset.iloc[:, :-1].values\n",
    "y = dataset.iloc[:, 2].values\n",
    "print(dataset)"
   ]
  },
  {
   "cell_type": "code",
   "execution_count": 41,
   "metadata": {},
   "outputs": [],
   "source": [
    "#Split dataset into training set and test set\n",
    "#using sklearn library\n",
    "from sklearn.model_selection import train_test_split\n",
    "#spliting into 80(training)-20(test)\n",
    "X_train, X_test, y_train, y_test = train_test_split(X, y, test_size=0.2, random_state=0)"
   ]
  },
  {
   "cell_type": "code",
   "execution_count": 44,
   "metadata": {},
   "outputs": [
    {
     "data": {
      "text/plain": [
       "LinearRegression(copy_X=True, fit_intercept=True, n_jobs=None, normalize=False)"
      ]
     },
     "execution_count": 44,
     "metadata": {},
     "output_type": "execute_result"
    }
   ],
   "source": [
    "# Fit Regression Model\n",
    "from sklearn.linear_model import LinearRegression\n",
    "lin_reg = LinearRegression()\n",
    "lin_reg.fit(X_train, y_train)"
   ]
  },
  {
   "cell_type": "code",
   "execution_count": 45,
   "metadata": {},
   "outputs": [],
   "source": [
    "#  Predict test set values\n",
    "lin_pred = lin_reg.predict(X_test)"
   ]
  },
  {
   "cell_type": "code",
   "execution_count": 46,
   "metadata": {},
   "outputs": [
    {
     "name": "stdout",
     "output_type": "stream",
     "text": [
      "R square =  0.9052889824534557\n",
      "Mean squared Error =  97.87152220196164\n",
      "Mean absolute Error =  7.955916525326746\n"
     ]
    }
   ],
   "source": [
    "# Step 7 - Model Accuracy\n",
    "from sklearn import metrics\n",
    "print('R square = ',metrics.r2_score(y_test, lin_pred))\n",
    "print('Mean squared Error = ',metrics.mean_squared_error(y_test, lin_pred))\n",
    "print('Mean absolute Error = ',metrics.mean_absolute_error(y_test, lin_pred))"
   ]
  },
  {
   "cell_type": "code",
   "execution_count": 50,
   "metadata": {},
   "outputs": [
    {
     "name": "stdout",
     "output_type": "stream",
     "text": [
      "My predicted weight =  [192.82156966]\n"
     ]
    }
   ],
   "source": [
    "#JUST FOR FUN\n",
    "# Step 8 - Predict my weight\n",
    "my_weight_pred = lin_reg.predict([[1,70]])\n",
    "print('My predicted weight = ',my_weight_pred)"
   ]
  },
  {
   "cell_type": "code",
   "execution_count": null,
   "metadata": {},
   "outputs": [],
   "source": []
  }
 ],
 "metadata": {
  "kernelspec": {
   "display_name": "Python 3",
   "language": "python",
   "name": "python3"
  },
  "language_info": {
   "codemirror_mode": {
    "name": "ipython",
    "version": 3
   },
   "file_extension": ".py",
   "mimetype": "text/x-python",
   "name": "python",
   "nbconvert_exporter": "python",
   "pygments_lexer": "ipython3",
   "version": "3.7.4"
  }
 },
 "nbformat": 4,
 "nbformat_minor": 2
}
