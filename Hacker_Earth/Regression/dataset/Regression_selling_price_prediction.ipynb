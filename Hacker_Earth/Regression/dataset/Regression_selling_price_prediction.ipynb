{
 "cells": [
  {
   "cell_type": "code",
   "execution_count": 1,
   "id": "c7c4c560",
   "metadata": {},
   "outputs": [],
   "source": [
    "import pandas as pd"
   ]
  },
  {
   "cell_type": "code",
   "execution_count": 36,
   "id": "a9bf60f7",
   "metadata": {},
   "outputs": [],
   "source": [
    "train_data = pd.read_csv('./train.csv')\n",
    "test_data = pd.read_csv('./test.csv')\n",
    "\n",
    "f'shape of train - {train_data.shape}, test - {test_data.shape}'\n",
    "p_id = test_data[\"Product_id\"]"
   ]
  },
  {
   "cell_type": "code",
   "execution_count": 3,
   "id": "6c6860e0",
   "metadata": {},
   "outputs": [
    {
     "data": {
      "text/html": [
       "<div>\n",
       "<style scoped>\n",
       "    .dataframe tbody tr th:only-of-type {\n",
       "        vertical-align: middle;\n",
       "    }\n",
       "\n",
       "    .dataframe tbody tr th {\n",
       "        vertical-align: top;\n",
       "    }\n",
       "\n",
       "    .dataframe thead th {\n",
       "        text-align: right;\n",
       "    }\n",
       "</style>\n",
       "<table border=\"1\" class=\"dataframe\">\n",
       "  <thead>\n",
       "    <tr style=\"text-align: right;\">\n",
       "      <th></th>\n",
       "      <th>Product_id</th>\n",
       "      <th>Stall_no</th>\n",
       "      <th>instock_date</th>\n",
       "      <th>Market_Category</th>\n",
       "      <th>Customer_name</th>\n",
       "      <th>Loyalty_customer</th>\n",
       "      <th>Product_Category</th>\n",
       "      <th>Grade</th>\n",
       "      <th>Demand</th>\n",
       "      <th>Discount_avail</th>\n",
       "      <th>charges_1</th>\n",
       "      <th>charges_2 (%)</th>\n",
       "      <th>Minimum_price</th>\n",
       "      <th>Maximum_price</th>\n",
       "      <th>Selling_Price</th>\n",
       "    </tr>\n",
       "  </thead>\n",
       "  <tbody>\n",
       "    <tr>\n",
       "      <th>0</th>\n",
       "      <td>BRAE2NF6JA5GUEXG</td>\n",
       "      <td>37.0</td>\n",
       "      <td>2015-08-22 18:36:12.000</td>\n",
       "      <td>2</td>\n",
       "      <td>Lillyann</td>\n",
       "      <td>Yes</td>\n",
       "      <td>Fashion</td>\n",
       "      <td>1</td>\n",
       "      <td>68</td>\n",
       "      <td>0.0</td>\n",
       "      <td>376.0</td>\n",
       "      <td>11.0</td>\n",
       "      <td>2983.0</td>\n",
       "      <td>4713.0</td>\n",
       "      <td>4185.947700</td>\n",
       "    </tr>\n",
       "    <tr>\n",
       "      <th>1</th>\n",
       "      <td>TUNE8SFB6RJN2HSD</td>\n",
       "      <td>38.0</td>\n",
       "      <td>2016-03-27 21:19:13.000</td>\n",
       "      <td>24</td>\n",
       "      <td>Klynn</td>\n",
       "      <td>Yes</td>\n",
       "      <td>Fashion</td>\n",
       "      <td>0</td>\n",
       "      <td>51</td>\n",
       "      <td>0.0</td>\n",
       "      <td>397.0</td>\n",
       "      <td>12.0</td>\n",
       "      <td>7495.0</td>\n",
       "      <td>10352.0</td>\n",
       "      <td>9271.490256</td>\n",
       "    </tr>\n",
       "    <tr>\n",
       "      <th>2</th>\n",
       "      <td>BRAEAR7WZPQGPBZU</td>\n",
       "      <td>9.0</td>\n",
       "      <td>2015-08-18 19:25:22.000</td>\n",
       "      <td>447</td>\n",
       "      <td>Ridge</td>\n",
       "      <td>Yes</td>\n",
       "      <td>Child_care</td>\n",
       "      <td>0</td>\n",
       "      <td>10</td>\n",
       "      <td>0.0</td>\n",
       "      <td>250.0</td>\n",
       "      <td>9.0</td>\n",
       "      <td>5752.0</td>\n",
       "      <td>7309.0</td>\n",
       "      <td>6785.701362</td>\n",
       "    </tr>\n",
       "    <tr>\n",
       "      <th>3</th>\n",
       "      <td>WATDZ2ZQ8JPDHCTJ</td>\n",
       "      <td>50.0</td>\n",
       "      <td>2016-03-28 21:53:01.000</td>\n",
       "      <td>23</td>\n",
       "      <td>Abran</td>\n",
       "      <td>Yes</td>\n",
       "      <td>Educational</td>\n",
       "      <td>2</td>\n",
       "      <td>48</td>\n",
       "      <td>0.0</td>\n",
       "      <td>144.0</td>\n",
       "      <td>13.0</td>\n",
       "      <td>5090.0</td>\n",
       "      <td>20814.0</td>\n",
       "      <td>13028.917824</td>\n",
       "    </tr>\n",
       "    <tr>\n",
       "      <th>4</th>\n",
       "      <td>JWSEBUKYQPMBZ3RK</td>\n",
       "      <td>7.0</td>\n",
       "      <td>2016-03-29 22:58:53.000</td>\n",
       "      <td>63</td>\n",
       "      <td>Dustyn</td>\n",
       "      <td>Yes</td>\n",
       "      <td>Repair</td>\n",
       "      <td>1</td>\n",
       "      <td>35</td>\n",
       "      <td>1.0</td>\n",
       "      <td>211.0</td>\n",
       "      <td>4.0</td>\n",
       "      <td>2430.0</td>\n",
       "      <td>9261.0</td>\n",
       "      <td>906.553935</td>\n",
       "    </tr>\n",
       "  </tbody>\n",
       "</table>\n",
       "</div>"
      ],
      "text/plain": [
       "         Product_id  Stall_no             instock_date  Market_Category  \\\n",
       "0  BRAE2NF6JA5GUEXG      37.0  2015-08-22 18:36:12.000                2   \n",
       "1  TUNE8SFB6RJN2HSD      38.0  2016-03-27 21:19:13.000               24   \n",
       "2  BRAEAR7WZPQGPBZU       9.0  2015-08-18 19:25:22.000              447   \n",
       "3  WATDZ2ZQ8JPDHCTJ      50.0  2016-03-28 21:53:01.000               23   \n",
       "4  JWSEBUKYQPMBZ3RK       7.0  2016-03-29 22:58:53.000               63   \n",
       "\n",
       "  Customer_name Loyalty_customer Product_Category  Grade  Demand  \\\n",
       "0      Lillyann              Yes          Fashion      1      68   \n",
       "1         Klynn              Yes          Fashion      0      51   \n",
       "2         Ridge              Yes       Child_care      0      10   \n",
       "3         Abran              Yes      Educational      2      48   \n",
       "4        Dustyn              Yes           Repair      1      35   \n",
       "\n",
       "   Discount_avail  charges_1  charges_2 (%)  Minimum_price  Maximum_price  \\\n",
       "0             0.0      376.0           11.0         2983.0         4713.0   \n",
       "1             0.0      397.0           12.0         7495.0        10352.0   \n",
       "2             0.0      250.0            9.0         5752.0         7309.0   \n",
       "3             0.0      144.0           13.0         5090.0        20814.0   \n",
       "4             1.0      211.0            4.0         2430.0         9261.0   \n",
       "\n",
       "   Selling_Price  \n",
       "0    4185.947700  \n",
       "1    9271.490256  \n",
       "2    6785.701362  \n",
       "3   13028.917824  \n",
       "4     906.553935  "
      ]
     },
     "execution_count": 3,
     "metadata": {},
     "output_type": "execute_result"
    }
   ],
   "source": [
    "train_data.head()"
   ]
  },
  {
   "cell_type": "code",
   "execution_count": 4,
   "id": "a3380fd9",
   "metadata": {},
   "outputs": [
    {
     "name": "stdout",
     "output_type": "stream",
     "text": [
      "<class 'pandas.core.frame.DataFrame'>\n",
      "RangeIndex: 6368 entries, 0 to 6367\n",
      "Data columns (total 15 columns):\n",
      " #   Column            Non-Null Count  Dtype  \n",
      "---  ------            --------------  -----  \n",
      " 0   Product_id        6368 non-null   object \n",
      " 1   Stall_no          6363 non-null   float64\n",
      " 2   instock_date      6368 non-null   object \n",
      " 3   Market_Category   6368 non-null   int64  \n",
      " 4   Customer_name     6157 non-null   object \n",
      " 5   Loyalty_customer  6368 non-null   object \n",
      " 6   Product_Category  6368 non-null   object \n",
      " 7   Grade             6368 non-null   int64  \n",
      " 8   Demand            6368 non-null   int64  \n",
      " 9   Discount_avail    6330 non-null   float64\n",
      " 10  charges_1         6170 non-null   float64\n",
      " 11  charges_2 (%)     6163 non-null   float64\n",
      " 12  Minimum_price     6330 non-null   float64\n",
      " 13  Maximum_price     6025 non-null   float64\n",
      " 14  Selling_Price     6327 non-null   float64\n",
      "dtypes: float64(7), int64(3), object(5)\n",
      "memory usage: 746.4+ KB\n"
     ]
    }
   ],
   "source": [
    "train_data.info()"
   ]
  },
  {
   "cell_type": "code",
   "execution_count": 5,
   "id": "cfa46b0e",
   "metadata": {},
   "outputs": [
    {
     "data": {
      "text/html": [
       "<div>\n",
       "<style scoped>\n",
       "    .dataframe tbody tr th:only-of-type {\n",
       "        vertical-align: middle;\n",
       "    }\n",
       "\n",
       "    .dataframe tbody tr th {\n",
       "        vertical-align: top;\n",
       "    }\n",
       "\n",
       "    .dataframe thead th {\n",
       "        text-align: right;\n",
       "    }\n",
       "</style>\n",
       "<table border=\"1\" class=\"dataframe\">\n",
       "  <thead>\n",
       "    <tr style=\"text-align: right;\">\n",
       "      <th></th>\n",
       "      <th>Stall_no</th>\n",
       "      <th>Market_Category</th>\n",
       "      <th>Grade</th>\n",
       "      <th>Demand</th>\n",
       "      <th>Discount_avail</th>\n",
       "      <th>charges_1</th>\n",
       "      <th>charges_2 (%)</th>\n",
       "      <th>Minimum_price</th>\n",
       "      <th>Maximum_price</th>\n",
       "      <th>Selling_Price</th>\n",
       "    </tr>\n",
       "  </thead>\n",
       "  <tbody>\n",
       "    <tr>\n",
       "      <th>count</th>\n",
       "      <td>6363.000000</td>\n",
       "      <td>6368.000000</td>\n",
       "      <td>6368.000000</td>\n",
       "      <td>6368.000000</td>\n",
       "      <td>6330.000000</td>\n",
       "      <td>6170.000000</td>\n",
       "      <td>6163.000000</td>\n",
       "      <td>6330.000000</td>\n",
       "      <td>6025.000000</td>\n",
       "      <td>6327.000000</td>\n",
       "    </tr>\n",
       "    <tr>\n",
       "      <th>mean</th>\n",
       "      <td>25.309445</td>\n",
       "      <td>199.340609</td>\n",
       "      <td>0.643687</td>\n",
       "      <td>50.921168</td>\n",
       "      <td>0.140442</td>\n",
       "      <td>264.514100</td>\n",
       "      <td>10.146195</td>\n",
       "      <td>3531.349763</td>\n",
       "      <td>6432.545892</td>\n",
       "      <td>4563.242592</td>\n",
       "    </tr>\n",
       "    <tr>\n",
       "      <th>std</th>\n",
       "      <td>14.328980</td>\n",
       "      <td>170.275570</td>\n",
       "      <td>1.025092</td>\n",
       "      <td>29.091922</td>\n",
       "      <td>0.347473</td>\n",
       "      <td>124.483056</td>\n",
       "      <td>4.318339</td>\n",
       "      <td>2194.729604</td>\n",
       "      <td>3716.177364</td>\n",
       "      <td>2979.102408</td>\n",
       "    </tr>\n",
       "    <tr>\n",
       "      <th>min</th>\n",
       "      <td>1.000000</td>\n",
       "      <td>0.000000</td>\n",
       "      <td>0.000000</td>\n",
       "      <td>1.000000</td>\n",
       "      <td>0.000000</td>\n",
       "      <td>100.000000</td>\n",
       "      <td>1.000000</td>\n",
       "      <td>1.000000</td>\n",
       "      <td>404.000000</td>\n",
       "      <td>-6062.470000</td>\n",
       "    </tr>\n",
       "    <tr>\n",
       "      <th>25%</th>\n",
       "      <td>13.000000</td>\n",
       "      <td>55.000000</td>\n",
       "      <td>0.000000</td>\n",
       "      <td>26.000000</td>\n",
       "      <td>0.000000</td>\n",
       "      <td>163.000000</td>\n",
       "      <td>7.000000</td>\n",
       "      <td>1879.250000</td>\n",
       "      <td>3918.000000</td>\n",
       "      <td>2450.005280</td>\n",
       "    </tr>\n",
       "    <tr>\n",
       "      <th>50%</th>\n",
       "      <td>25.000000</td>\n",
       "      <td>132.000000</td>\n",
       "      <td>0.000000</td>\n",
       "      <td>51.000000</td>\n",
       "      <td>0.000000</td>\n",
       "      <td>252.000000</td>\n",
       "      <td>10.000000</td>\n",
       "      <td>3157.500000</td>\n",
       "      <td>5634.000000</td>\n",
       "      <td>4210.384640</td>\n",
       "    </tr>\n",
       "    <tr>\n",
       "      <th>75%</th>\n",
       "      <td>37.000000</td>\n",
       "      <td>403.000000</td>\n",
       "      <td>2.000000</td>\n",
       "      <td>76.000000</td>\n",
       "      <td>0.000000</td>\n",
       "      <td>314.000000</td>\n",
       "      <td>14.000000</td>\n",
       "      <td>4697.000000</td>\n",
       "      <td>8126.000000</td>\n",
       "      <td>6167.643252</td>\n",
       "    </tr>\n",
       "    <tr>\n",
       "      <th>max</th>\n",
       "      <td>50.000000</td>\n",
       "      <td>471.000000</td>\n",
       "      <td>3.000000</td>\n",
       "      <td>100.000000</td>\n",
       "      <td>1.000000</td>\n",
       "      <td>649.000000</td>\n",
       "      <td>17.000000</td>\n",
       "      <td>17580.000000</td>\n",
       "      <td>58812.000000</td>\n",
       "      <td>22638.325941</td>\n",
       "    </tr>\n",
       "  </tbody>\n",
       "</table>\n",
       "</div>"
      ],
      "text/plain": [
       "          Stall_no  Market_Category        Grade       Demand  Discount_avail  \\\n",
       "count  6363.000000      6368.000000  6368.000000  6368.000000     6330.000000   \n",
       "mean     25.309445       199.340609     0.643687    50.921168        0.140442   \n",
       "std      14.328980       170.275570     1.025092    29.091922        0.347473   \n",
       "min       1.000000         0.000000     0.000000     1.000000        0.000000   \n",
       "25%      13.000000        55.000000     0.000000    26.000000        0.000000   \n",
       "50%      25.000000       132.000000     0.000000    51.000000        0.000000   \n",
       "75%      37.000000       403.000000     2.000000    76.000000        0.000000   \n",
       "max      50.000000       471.000000     3.000000   100.000000        1.000000   \n",
       "\n",
       "         charges_1  charges_2 (%)  Minimum_price  Maximum_price  Selling_Price  \n",
       "count  6170.000000    6163.000000    6330.000000    6025.000000    6327.000000  \n",
       "mean    264.514100      10.146195    3531.349763    6432.545892    4563.242592  \n",
       "std     124.483056       4.318339    2194.729604    3716.177364    2979.102408  \n",
       "min     100.000000       1.000000       1.000000     404.000000   -6062.470000  \n",
       "25%     163.000000       7.000000    1879.250000    3918.000000    2450.005280  \n",
       "50%     252.000000      10.000000    3157.500000    5634.000000    4210.384640  \n",
       "75%     314.000000      14.000000    4697.000000    8126.000000    6167.643252  \n",
       "max     649.000000      17.000000   17580.000000   58812.000000   22638.325941  "
      ]
     },
     "execution_count": 5,
     "metadata": {},
     "output_type": "execute_result"
    }
   ],
   "source": [
    "train_data.describe()"
   ]
  },
  {
   "cell_type": "code",
   "execution_count": 6,
   "id": "ec5b9d01",
   "metadata": {},
   "outputs": [],
   "source": [
    "train_data = train_data.drop(columns = ['Product_id','instock_date'])"
   ]
  },
  {
   "cell_type": "code",
   "execution_count": 7,
   "id": "5c913d1d",
   "metadata": {},
   "outputs": [
    {
     "name": "stdout",
     "output_type": "stream",
     "text": [
      "Nan in train data - Stall_no              5\n",
      "Market_Category       0\n",
      "Customer_name       211\n",
      "Loyalty_customer      0\n",
      "Product_Category      0\n",
      "Grade                 0\n",
      "Demand                0\n",
      "Discount_avail       38\n",
      "charges_1           198\n",
      "charges_2 (%)       205\n",
      "Minimum_price        38\n",
      "Maximum_price       343\n",
      "Selling_Price        41\n",
      "dtype: int64\n",
      "Nan in test data - Product_id           0\n",
      "Stall_no             1\n",
      "instock_date         0\n",
      "Market_Category      0\n",
      "Customer_name       53\n",
      "Loyalty_customer     0\n",
      "Product_Category     0\n",
      "Grade                0\n",
      "Demand               0\n",
      "Discount_avail       0\n",
      "charges_1           36\n",
      "charges_2 (%)        5\n",
      "Minimum_price       14\n",
      "Maximum_price        0\n",
      "dtype: int64\n"
     ]
    }
   ],
   "source": [
    "print(\"Nan in train data -\", train_data.isna().sum())\n",
    "print(\"Nan in test data -\", test_data.isna().sum())"
   ]
  },
  {
   "cell_type": "markdown",
   "id": "2d219bce",
   "metadata": {},
   "source": [
    "#### Columns having nan values are - Stall_no(float), Customer_name(object), Discount_avail(float), charges_1(float), charges_2(float), minimum_price(float), maximum_price(float) and there are some values missing in selling price(y). Its better to remove those rows. As if we impute also then it can harm our model accuracy."
   ]
  },
  {
   "cell_type": "code",
   "execution_count": 8,
   "id": "a44c683d",
   "metadata": {},
   "outputs": [
    {
     "data": {
      "text/html": [
       "<div>\n",
       "<style scoped>\n",
       "    .dataframe tbody tr th:only-of-type {\n",
       "        vertical-align: middle;\n",
       "    }\n",
       "\n",
       "    .dataframe tbody tr th {\n",
       "        vertical-align: top;\n",
       "    }\n",
       "\n",
       "    .dataframe thead th {\n",
       "        text-align: right;\n",
       "    }\n",
       "</style>\n",
       "<table border=\"1\" class=\"dataframe\">\n",
       "  <thead>\n",
       "    <tr style=\"text-align: right;\">\n",
       "      <th></th>\n",
       "      <th>Stall_no</th>\n",
       "      <th>Market_Category</th>\n",
       "      <th>Customer_name</th>\n",
       "      <th>Loyalty_customer</th>\n",
       "      <th>Product_Category</th>\n",
       "      <th>Grade</th>\n",
       "      <th>Demand</th>\n",
       "      <th>Discount_avail</th>\n",
       "      <th>charges_1</th>\n",
       "      <th>charges_2 (%)</th>\n",
       "      <th>Minimum_price</th>\n",
       "      <th>Maximum_price</th>\n",
       "      <th>Selling_Price</th>\n",
       "    </tr>\n",
       "  </thead>\n",
       "  <tbody>\n",
       "    <tr>\n",
       "      <th>0</th>\n",
       "      <td>37.0</td>\n",
       "      <td>2</td>\n",
       "      <td>Lillyann</td>\n",
       "      <td>Yes</td>\n",
       "      <td>Fashion</td>\n",
       "      <td>1</td>\n",
       "      <td>68</td>\n",
       "      <td>0.0</td>\n",
       "      <td>376.0</td>\n",
       "      <td>11.0</td>\n",
       "      <td>2983.0</td>\n",
       "      <td>4713.0</td>\n",
       "      <td>4185.947700</td>\n",
       "    </tr>\n",
       "    <tr>\n",
       "      <th>1</th>\n",
       "      <td>38.0</td>\n",
       "      <td>24</td>\n",
       "      <td>Klynn</td>\n",
       "      <td>Yes</td>\n",
       "      <td>Fashion</td>\n",
       "      <td>0</td>\n",
       "      <td>51</td>\n",
       "      <td>0.0</td>\n",
       "      <td>397.0</td>\n",
       "      <td>12.0</td>\n",
       "      <td>7495.0</td>\n",
       "      <td>10352.0</td>\n",
       "      <td>9271.490256</td>\n",
       "    </tr>\n",
       "    <tr>\n",
       "      <th>2</th>\n",
       "      <td>9.0</td>\n",
       "      <td>447</td>\n",
       "      <td>Ridge</td>\n",
       "      <td>Yes</td>\n",
       "      <td>Child_care</td>\n",
       "      <td>0</td>\n",
       "      <td>10</td>\n",
       "      <td>0.0</td>\n",
       "      <td>250.0</td>\n",
       "      <td>9.0</td>\n",
       "      <td>5752.0</td>\n",
       "      <td>7309.0</td>\n",
       "      <td>6785.701362</td>\n",
       "    </tr>\n",
       "    <tr>\n",
       "      <th>3</th>\n",
       "      <td>50.0</td>\n",
       "      <td>23</td>\n",
       "      <td>Abran</td>\n",
       "      <td>Yes</td>\n",
       "      <td>Educational</td>\n",
       "      <td>2</td>\n",
       "      <td>48</td>\n",
       "      <td>0.0</td>\n",
       "      <td>144.0</td>\n",
       "      <td>13.0</td>\n",
       "      <td>5090.0</td>\n",
       "      <td>20814.0</td>\n",
       "      <td>13028.917824</td>\n",
       "    </tr>\n",
       "    <tr>\n",
       "      <th>4</th>\n",
       "      <td>7.0</td>\n",
       "      <td>63</td>\n",
       "      <td>Dustyn</td>\n",
       "      <td>Yes</td>\n",
       "      <td>Repair</td>\n",
       "      <td>1</td>\n",
       "      <td>35</td>\n",
       "      <td>1.0</td>\n",
       "      <td>211.0</td>\n",
       "      <td>4.0</td>\n",
       "      <td>2430.0</td>\n",
       "      <td>9261.0</td>\n",
       "      <td>906.553935</td>\n",
       "    </tr>\n",
       "  </tbody>\n",
       "</table>\n",
       "</div>"
      ],
      "text/plain": [
       "   Stall_no  Market_Category Customer_name Loyalty_customer Product_Category  \\\n",
       "0      37.0                2      Lillyann              Yes          Fashion   \n",
       "1      38.0               24         Klynn              Yes          Fashion   \n",
       "2       9.0              447         Ridge              Yes       Child_care   \n",
       "3      50.0               23         Abran              Yes      Educational   \n",
       "4       7.0               63        Dustyn              Yes           Repair   \n",
       "\n",
       "   Grade  Demand  Discount_avail  charges_1  charges_2 (%)  Minimum_price  \\\n",
       "0      1      68             0.0      376.0           11.0         2983.0   \n",
       "1      0      51             0.0      397.0           12.0         7495.0   \n",
       "2      0      10             0.0      250.0            9.0         5752.0   \n",
       "3      2      48             0.0      144.0           13.0         5090.0   \n",
       "4      1      35             1.0      211.0            4.0         2430.0   \n",
       "\n",
       "   Maximum_price  Selling_Price  \n",
       "0         4713.0    4185.947700  \n",
       "1        10352.0    9271.490256  \n",
       "2         7309.0    6785.701362  \n",
       "3        20814.0   13028.917824  \n",
       "4         9261.0     906.553935  "
      ]
     },
     "execution_count": 8,
     "metadata": {},
     "output_type": "execute_result"
    }
   ],
   "source": [
    "train_data.head()"
   ]
  },
  {
   "cell_type": "code",
   "execution_count": 9,
   "id": "5ee759f3",
   "metadata": {},
   "outputs": [],
   "source": [
    "train_data = train_data.dropna(subset=['Selling_Price'])"
   ]
  },
  {
   "cell_type": "code",
   "execution_count": 10,
   "id": "f1c09a53",
   "metadata": {},
   "outputs": [
    {
     "name": "stdout",
     "output_type": "stream",
     "text": [
      "Nan in train data - Stall_no              5\n",
      "Market_Category       0\n",
      "Customer_name       207\n",
      "Loyalty_customer      0\n",
      "Product_Category      0\n",
      "Grade                 0\n",
      "Demand                0\n",
      "Discount_avail       37\n",
      "charges_1           198\n",
      "charges_2 (%)       204\n",
      "Minimum_price        38\n",
      "Maximum_price       341\n",
      "Selling_Price         0\n",
      "dtype: int64\n",
      "Nan in test data - Product_id           0\n",
      "Stall_no             1\n",
      "instock_date         0\n",
      "Market_Category      0\n",
      "Customer_name       53\n",
      "Loyalty_customer     0\n",
      "Product_Category     0\n",
      "Grade                0\n",
      "Demand               0\n",
      "Discount_avail       0\n",
      "charges_1           36\n",
      "charges_2 (%)        5\n",
      "Minimum_price       14\n",
      "Maximum_price        0\n",
      "dtype: int64\n"
     ]
    }
   ],
   "source": [
    "print(\"Nan in train data -\", train_data.isna().sum())\n",
    "print(\"Nan in test data -\", test_data.isna().sum())"
   ]
  },
  {
   "cell_type": "code",
   "execution_count": 11,
   "id": "d85d9fd5",
   "metadata": {},
   "outputs": [
    {
     "name": "stdout",
     "output_type": "stream",
     "text": [
      "float64\n",
      "int64\n",
      "object\n",
      "object\n",
      "object\n",
      "int64\n",
      "int64\n",
      "float64\n",
      "float64\n",
      "float64\n",
      "float64\n",
      "float64\n",
      "float64\n"
     ]
    }
   ],
   "source": [
    "type(train_data['charges_1'].tolist())\n",
    "for col in train_data.columns:\n",
    "    print(train_data[col].dtype)"
   ]
  },
  {
   "cell_type": "markdown",
   "id": "157061ac",
   "metadata": {},
   "source": [
    "#### Now imputing the categorical and numerical features :\n",
    " 1. Categorical - Maimum occurence.\n",
    " 2. Numerical - Median value"
   ]
  },
  {
   "cell_type": "code",
   "execution_count": 13,
   "id": "a010b85f",
   "metadata": {},
   "outputs": [],
   "source": [
    "import numpy as np\n",
    "for col in train_data.columns:\n",
    "    if train_data[col].dtype == 'float64' or train_data[col].dtype == 'int64':\n",
    "        train_data[col].fillna(np.nanmean(train_data[col].values), inplace=True)\n",
    "    else:\n",
    "        train_data[col].fillna(train_data[col].value_counts().keys()[0], inplace=True)"
   ]
  },
  {
   "cell_type": "code",
   "execution_count": 14,
   "id": "97312db7",
   "metadata": {},
   "outputs": [
    {
     "name": "stdout",
     "output_type": "stream",
     "text": [
      "Nan in train data - Stall_no            0\n",
      "Market_Category     0\n",
      "Customer_name       0\n",
      "Loyalty_customer    0\n",
      "Product_Category    0\n",
      "Grade               0\n",
      "Demand              0\n",
      "Discount_avail      0\n",
      "charges_1           0\n",
      "charges_2 (%)       0\n",
      "Minimum_price       0\n",
      "Maximum_price       0\n",
      "Selling_Price       0\n",
      "dtype: int64\n"
     ]
    }
   ],
   "source": [
    "print(\"Nan in train data -\", train_data.isna().sum())\n",
    "# print(\"Nan in test data -\", test_data.isna().sum())"
   ]
  },
  {
   "cell_type": "markdown",
   "id": "41ba224f",
   "metadata": {},
   "source": [
    "#### We can see there is no NAN value, so we can proceed with changing categorical values to numerical"
   ]
  },
  {
   "cell_type": "code",
   "execution_count": 15,
   "id": "b8d6c629",
   "metadata": {},
   "outputs": [],
   "source": [
    "from sklearn.preprocessing import StandardScaler, LabelEncoder\n",
    "\n",
    "for col in train_data.columns:\n",
    "    if train_data[col].dtype == 'object':\n",
    "        lbl_enc = LabelEncoder()\n",
    "        lbl_enc.fit(train_data[col].values)\n",
    "        train_data[col] = lbl_enc.transform(train_data[col].values.tolist())"
   ]
  },
  {
   "cell_type": "code",
   "execution_count": 16,
   "id": "d8500218",
   "metadata": {},
   "outputs": [
    {
     "name": "stdout",
     "output_type": "stream",
     "text": [
      "(6327, 13)\n"
     ]
    }
   ],
   "source": [
    "train_data.head()\n",
    "print(train_data.shape)"
   ]
  },
  {
   "cell_type": "markdown",
   "id": "b10a58da",
   "metadata": {},
   "source": [
    "#### Removing negative values"
   ]
  },
  {
   "cell_type": "code",
   "execution_count": 17,
   "id": "81109b32",
   "metadata": {},
   "outputs": [
    {
     "data": {
      "text/plain": [
       "(6313, 13)"
      ]
     },
     "execution_count": 17,
     "metadata": {},
     "output_type": "execute_result"
    }
   ],
   "source": [
    "train_data = train_data[train_data[train_data.columns[-1]] > 0]\n",
    "train_data.shape"
   ]
  },
  {
   "cell_type": "code",
   "execution_count": 18,
   "id": "cab3f225",
   "metadata": {},
   "outputs": [
    {
     "data": {
      "text/plain": [
       "False"
      ]
     },
     "execution_count": 18,
     "metadata": {},
     "output_type": "execute_result"
    }
   ],
   "source": [
    "###Checking if it has any negative value\n",
    "(train_data[train_data.columns[-1]] < 0).values.any()"
   ]
  },
  {
   "cell_type": "code",
   "execution_count": 19,
   "id": "e3e73b28",
   "metadata": {},
   "outputs": [],
   "source": [
    "from sklearn.linear_model import LinearRegression\n",
    "\n",
    "X = train_data[train_data.columns[:-1]]\n",
    "y = train_data[train_data.columns[-1]]"
   ]
  },
  {
   "cell_type": "markdown",
   "id": "c69fa03d",
   "metadata": {},
   "source": [
    "#### Applying regression without normalizing data, train-test split"
   ]
  },
  {
   "cell_type": "code",
   "execution_count": 20,
   "id": "d51531d7",
   "metadata": {},
   "outputs": [],
   "source": [
    "from sklearn.model_selection import train_test_split\n",
    "\n",
    "X_train, X_test, y_train, y_test = train_test_split(X,y, test_size=0.2)"
   ]
  },
  {
   "cell_type": "markdown",
   "id": "393b75b7",
   "metadata": {},
   "source": [
    "#### Comparing multiple model together"
   ]
  },
  {
   "cell_type": "code",
   "execution_count": 21,
   "id": "19a13658",
   "metadata": {},
   "outputs": [],
   "source": [
    "from sklearn.linear_model import LinearRegression\n",
    "from sklearn.linear_model import Ridge\n",
    "from sklearn.tree import DecisionTreeRegressor\n",
    "from sklearn.ensemble import ExtraTreesRegressor\n",
    "from sklearn.ensemble import RandomForestRegressor\n",
    "import xgboost\n",
    "from sklearn.ensemble import AdaBoostRegressor\n",
    "from sklearn.ensemble import GradientBoostingRegressor\n",
    "from sklearn.neighbors import KNeighborsRegressor\n",
    "from sklearn.linear_model import ElasticNet\n",
    "from sklearn.ensemble import StackingRegressor\n",
    "from sklearn.metrics import r2_score\n",
    "from sklearn.model_selection import cross_validate\n",
    "from sklearn.metrics import mean_squared_error"
   ]
  },
  {
   "cell_type": "code",
   "execution_count": 22,
   "id": "1751e94b",
   "metadata": {},
   "outputs": [],
   "source": [
    "reg = {\n",
    "\"LinearRegression\": LinearRegression(),\n",
    "\"KNeighborsRegressor\":KNeighborsRegressor(n_neighbors=2),\n",
    "\"AdaBoostRegressor\":AdaBoostRegressor(random_state=0, n_estimators=100),\n",
    "\"Ridge\": Ridge(alpha=1.0),\n",
    "\"ElasticNet\":ElasticNet(random_state=0),\n",
    "\"GradientBoostingRegressor\":GradientBoostingRegressor(random_state=0),\n",
    "\"DecisionTreeRegressor\": DecisionTreeRegressor(),\n",
    "\"ExtraTreesRegressor\": ExtraTreesRegressor(n_jobs=-1),\n",
    "\"RandomForestRegressor\": RandomForestRegressor(n_jobs=-1),\n",
    "\"XGBRegressor\":xgboost.XGBRegressor(n_jobs=-1)\n",
    "}"
   ]
  },
  {
   "cell_type": "code",
   "execution_count": 23,
   "id": "29ac3e6b",
   "metadata": {},
   "outputs": [
    {
     "name": "stdout",
     "output_type": "stream",
     "text": [
      "--------------------------------------------------------------\n",
      "Model: LinearRegression\n",
      "-----Training Data Evalution-----\n",
      "R2 Value:  0.9062694419187347\n",
      "RMSE:  897.924797572086\n",
      "--------------------------------------------------------------\n",
      "Model: KNeighborsRegressor\n",
      "-----Training Data Evalution-----\n",
      "R2 Value:  0.45784469039736686\n",
      "RMSE:  2159.5398460392703\n",
      "--------------------------------------------------------------\n",
      "Model: AdaBoostRegressor\n",
      "-----Training Data Evalution-----\n",
      "R2 Value:  0.8850697368971701\n",
      "RMSE:  994.2979968154984\n",
      "--------------------------------------------------------------\n",
      "Model: Ridge\n",
      "-----Training Data Evalution-----\n",
      "R2 Value:  0.9062311232668373\n",
      "RMSE:  898.1083223083168\n",
      "--------------------------------------------------------------\n",
      "Model: ElasticNet\n",
      "-----Training Data Evalution-----\n",
      "R2 Value:  0.713841935883214\n",
      "RMSE:  1568.9256330716287\n",
      "--------------------------------------------------------------\n",
      "Model: GradientBoostingRegressor\n",
      "-----Training Data Evalution-----\n",
      "R2 Value:  0.9857939777711655\n",
      "RMSE:  349.5711706855105\n",
      "--------------------------------------------------------------\n",
      "Model: DecisionTreeRegressor\n",
      "-----Training Data Evalution-----\n",
      "R2 Value:  0.977248932576038\n",
      "RMSE:  442.38485726643404\n",
      "--------------------------------------------------------------\n",
      "Model: ExtraTreesRegressor\n",
      "-----Training Data Evalution-----\n",
      "R2 Value:  0.9904209950077701\n",
      "RMSE:  287.0513302425703\n",
      "--------------------------------------------------------------\n",
      "Model: RandomForestRegressor\n",
      "-----Training Data Evalution-----\n",
      "R2 Value:  0.9872376874190784\n",
      "RMSE:  331.3325116736165\n",
      "--------------------------------------------------------------\n",
      "Model: XGBRegressor\n",
      "-----Training Data Evalution-----\n",
      "R2 Value:  0.9890314766259348\n",
      "RMSE:  307.16621521260726\n"
     ]
    }
   ],
   "source": [
    "from sklearn.metrics import mean_squared_error, r2_score\n",
    "dic =  {\"Model\":[],\"R2_Train\":[],\"RMSE_Train\":[]}\n",
    "for name, model in reg.items():   \n",
    "    model.fit(X_train, y_train)\n",
    "    y_train_pre = model.predict(X_test)\n",
    "    r2 = r2_score(y_test, y_train_pre)\n",
    "    rmse  = np.sqrt(mean_squared_error(y_test, y_train_pre))\n",
    "    print(\"--------------------------------------------------------------\")\n",
    "    print(\"Model:\", name)\n",
    "    print(\"-----Training Data Evalution-----\")\n",
    "    print(\"R2 Value: \", r2_score(y_test, y_train_pre))\n",
    "    print(\"RMSE: \",np.sqrt(mean_squared_error(y_test, y_train_pre)))\n",
    "    dic[\"Model\"].append(name)\n",
    "    dic[\"R2_Train\"].append(r2)\n",
    "    dic[\"RMSE_Train\"].append(rmse)"
   ]
  },
  {
   "cell_type": "code",
   "execution_count": 24,
   "id": "a3a89573",
   "metadata": {},
   "outputs": [
    {
     "data": {
      "text/html": [
       "<div>\n",
       "<style scoped>\n",
       "    .dataframe tbody tr th:only-of-type {\n",
       "        vertical-align: middle;\n",
       "    }\n",
       "\n",
       "    .dataframe tbody tr th {\n",
       "        vertical-align: top;\n",
       "    }\n",
       "\n",
       "    .dataframe thead th {\n",
       "        text-align: right;\n",
       "    }\n",
       "</style>\n",
       "<table border=\"1\" class=\"dataframe\">\n",
       "  <thead>\n",
       "    <tr style=\"text-align: right;\">\n",
       "      <th></th>\n",
       "      <th>Model</th>\n",
       "      <th>R2_Train</th>\n",
       "      <th>RMSE_Train</th>\n",
       "    </tr>\n",
       "  </thead>\n",
       "  <tbody>\n",
       "    <tr>\n",
       "      <th>7</th>\n",
       "      <td>ExtraTreesRegressor</td>\n",
       "      <td>0.990421</td>\n",
       "      <td>287.051330</td>\n",
       "    </tr>\n",
       "    <tr>\n",
       "      <th>9</th>\n",
       "      <td>XGBRegressor</td>\n",
       "      <td>0.989031</td>\n",
       "      <td>307.166215</td>\n",
       "    </tr>\n",
       "    <tr>\n",
       "      <th>8</th>\n",
       "      <td>RandomForestRegressor</td>\n",
       "      <td>0.987238</td>\n",
       "      <td>331.332512</td>\n",
       "    </tr>\n",
       "    <tr>\n",
       "      <th>5</th>\n",
       "      <td>GradientBoostingRegressor</td>\n",
       "      <td>0.985794</td>\n",
       "      <td>349.571171</td>\n",
       "    </tr>\n",
       "    <tr>\n",
       "      <th>6</th>\n",
       "      <td>DecisionTreeRegressor</td>\n",
       "      <td>0.977249</td>\n",
       "      <td>442.384857</td>\n",
       "    </tr>\n",
       "    <tr>\n",
       "      <th>0</th>\n",
       "      <td>LinearRegression</td>\n",
       "      <td>0.906269</td>\n",
       "      <td>897.924798</td>\n",
       "    </tr>\n",
       "    <tr>\n",
       "      <th>3</th>\n",
       "      <td>Ridge</td>\n",
       "      <td>0.906231</td>\n",
       "      <td>898.108322</td>\n",
       "    </tr>\n",
       "    <tr>\n",
       "      <th>2</th>\n",
       "      <td>AdaBoostRegressor</td>\n",
       "      <td>0.885070</td>\n",
       "      <td>994.297997</td>\n",
       "    </tr>\n",
       "    <tr>\n",
       "      <th>4</th>\n",
       "      <td>ElasticNet</td>\n",
       "      <td>0.713842</td>\n",
       "      <td>1568.925633</td>\n",
       "    </tr>\n",
       "    <tr>\n",
       "      <th>1</th>\n",
       "      <td>KNeighborsRegressor</td>\n",
       "      <td>0.457845</td>\n",
       "      <td>2159.539846</td>\n",
       "    </tr>\n",
       "  </tbody>\n",
       "</table>\n",
       "</div>"
      ],
      "text/plain": [
       "                       Model  R2_Train   RMSE_Train\n",
       "7        ExtraTreesRegressor  0.990421   287.051330\n",
       "9               XGBRegressor  0.989031   307.166215\n",
       "8      RandomForestRegressor  0.987238   331.332512\n",
       "5  GradientBoostingRegressor  0.985794   349.571171\n",
       "6      DecisionTreeRegressor  0.977249   442.384857\n",
       "0           LinearRegression  0.906269   897.924798\n",
       "3                      Ridge  0.906231   898.108322\n",
       "2          AdaBoostRegressor  0.885070   994.297997\n",
       "4                 ElasticNet  0.713842  1568.925633\n",
       "1        KNeighborsRegressor  0.457845  2159.539846"
      ]
     },
     "execution_count": 24,
     "metadata": {},
     "output_type": "execute_result"
    }
   ],
   "source": [
    "f_table = pd.DataFrame(dic)\n",
    "f_table.sort_values('RMSE_Train', axis=0, ascending=True)"
   ]
  },
  {
   "cell_type": "markdown",
   "id": "bb29e4ef",
   "metadata": {},
   "source": [
    "#### Now we can analyze model seperately\n",
    "1. RandomForrest"
   ]
  },
  {
   "cell_type": "code",
   "execution_count": 25,
   "id": "8a2009be",
   "metadata": {},
   "outputs": [
    {
     "data": {
      "text/plain": [
       "RandomForestRegressor(n_jobs=-1)"
      ]
     },
     "execution_count": 25,
     "metadata": {},
     "output_type": "execute_result"
    }
   ],
   "source": [
    "from sklearn.ensemble import RandomForestRegressor\n",
    "rf_model = RandomForestRegressor(n_jobs=-1)\n",
    "rf_model.fit(X_train, y_train)"
   ]
  },
  {
   "cell_type": "code",
   "execution_count": 26,
   "id": "2d5d6416",
   "metadata": {},
   "outputs": [
    {
     "name": "stdout",
     "output_type": "stream",
     "text": [
      "333.6680602748366\n"
     ]
    }
   ],
   "source": [
    "pred_rf = rf_model.predict(X_test)\n",
    "print(mean_squared_error(y_test, pred_rf)**0.5)"
   ]
  },
  {
   "cell_type": "markdown",
   "id": "23033fca",
   "metadata": {},
   "source": [
    "#### Checking feature importance "
   ]
  },
  {
   "cell_type": "code",
   "execution_count": 27,
   "id": "2ef0c934",
   "metadata": {},
   "outputs": [
    {
     "name": "stdout",
     "output_type": "stream",
     "text": [
      "[6.16127177e-04 7.12080935e-04 1.05892038e-03 1.21873574e-04\n",
      " 4.18188585e-04 2.30528501e-03 7.62813648e-04 2.94925753e-01\n",
      " 1.84133390e-03 5.39329865e-04 1.62990238e-01 5.33708056e-01]\n"
     ]
    }
   ],
   "source": [
    "print(rf_model.feature_importances_)\n",
    "importance = pd.DataFrame({'Features': X_train.columns.values.tolist(), 'importance': rf_model.feature_importances_})"
   ]
  },
  {
   "cell_type": "code",
   "execution_count": 28,
   "id": "5b9ffcd7",
   "metadata": {},
   "outputs": [
    {
     "data": {
      "text/html": [
       "<div>\n",
       "<style scoped>\n",
       "    .dataframe tbody tr th:only-of-type {\n",
       "        vertical-align: middle;\n",
       "    }\n",
       "\n",
       "    .dataframe tbody tr th {\n",
       "        vertical-align: top;\n",
       "    }\n",
       "\n",
       "    .dataframe thead th {\n",
       "        text-align: right;\n",
       "    }\n",
       "</style>\n",
       "<table border=\"1\" class=\"dataframe\">\n",
       "  <thead>\n",
       "    <tr style=\"text-align: right;\">\n",
       "      <th></th>\n",
       "      <th>Features</th>\n",
       "      <th>importance</th>\n",
       "    </tr>\n",
       "  </thead>\n",
       "  <tbody>\n",
       "    <tr>\n",
       "      <th>11</th>\n",
       "      <td>Maximum_price</td>\n",
       "      <td>0.533708</td>\n",
       "    </tr>\n",
       "    <tr>\n",
       "      <th>7</th>\n",
       "      <td>Discount_avail</td>\n",
       "      <td>0.294926</td>\n",
       "    </tr>\n",
       "    <tr>\n",
       "      <th>10</th>\n",
       "      <td>Minimum_price</td>\n",
       "      <td>0.162990</td>\n",
       "    </tr>\n",
       "    <tr>\n",
       "      <th>5</th>\n",
       "      <td>Grade</td>\n",
       "      <td>0.002305</td>\n",
       "    </tr>\n",
       "    <tr>\n",
       "      <th>8</th>\n",
       "      <td>charges_1</td>\n",
       "      <td>0.001841</td>\n",
       "    </tr>\n",
       "    <tr>\n",
       "      <th>2</th>\n",
       "      <td>Customer_name</td>\n",
       "      <td>0.001059</td>\n",
       "    </tr>\n",
       "    <tr>\n",
       "      <th>6</th>\n",
       "      <td>Demand</td>\n",
       "      <td>0.000763</td>\n",
       "    </tr>\n",
       "    <tr>\n",
       "      <th>1</th>\n",
       "      <td>Market_Category</td>\n",
       "      <td>0.000712</td>\n",
       "    </tr>\n",
       "    <tr>\n",
       "      <th>0</th>\n",
       "      <td>Stall_no</td>\n",
       "      <td>0.000616</td>\n",
       "    </tr>\n",
       "    <tr>\n",
       "      <th>9</th>\n",
       "      <td>charges_2 (%)</td>\n",
       "      <td>0.000539</td>\n",
       "    </tr>\n",
       "    <tr>\n",
       "      <th>4</th>\n",
       "      <td>Product_Category</td>\n",
       "      <td>0.000418</td>\n",
       "    </tr>\n",
       "    <tr>\n",
       "      <th>3</th>\n",
       "      <td>Loyalty_customer</td>\n",
       "      <td>0.000122</td>\n",
       "    </tr>\n",
       "  </tbody>\n",
       "</table>\n",
       "</div>"
      ],
      "text/plain": [
       "            Features  importance\n",
       "11     Maximum_price    0.533708\n",
       "7     Discount_avail    0.294926\n",
       "10     Minimum_price    0.162990\n",
       "5              Grade    0.002305\n",
       "8          charges_1    0.001841\n",
       "2      Customer_name    0.001059\n",
       "6             Demand    0.000763\n",
       "1    Market_Category    0.000712\n",
       "0           Stall_no    0.000616\n",
       "9      charges_2 (%)    0.000539\n",
       "4   Product_Category    0.000418\n",
       "3   Loyalty_customer    0.000122"
      ]
     },
     "execution_count": 28,
     "metadata": {},
     "output_type": "execute_result"
    }
   ],
   "source": [
    "importance.sort_values('importance', axis = 0, ascending=False)"
   ]
  },
  {
   "cell_type": "markdown",
   "id": "608d3efd",
   "metadata": {},
   "source": [
    "#### As we can see that some features are much more importance, may be if we apply feature selection in one of the above methods. It can give better results.Selecting important features using Recurrsive feature elimination"
   ]
  },
  {
   "cell_type": "code",
   "execution_count": 29,
   "id": "ae2a35b3",
   "metadata": {},
   "outputs": [
    {
     "data": {
      "text/plain": [
       "RFE(estimator=RandomForestRegressor(), n_features_to_select=5)"
      ]
     },
     "execution_count": 29,
     "metadata": {},
     "output_type": "execute_result"
    }
   ],
   "source": [
    "from sklearn.feature_selection import RFE\n",
    "\n",
    "rfe = RFE(estimator=RandomForestRegressor(), n_features_to_select=5)\n",
    "rfe.fit(X_train, y_train)"
   ]
  },
  {
   "cell_type": "code",
   "execution_count": 30,
   "id": "13ebaaa1",
   "metadata": {},
   "outputs": [
    {
     "data": {
      "text/plain": [
       "Index(['Grade', 'Discount_avail', 'charges_1', 'Minimum_price',\n",
       "       'Maximum_price'],\n",
       "      dtype='object')"
      ]
     },
     "execution_count": 30,
     "metadata": {},
     "output_type": "execute_result"
    }
   ],
   "source": [
    "features2 = X_train.columns[rfe.get_support()]\n",
    "features2"
   ]
  },
  {
   "cell_type": "code",
   "execution_count": 31,
   "id": "36377f0e",
   "metadata": {},
   "outputs": [
    {
     "name": "stdout",
     "output_type": "stream",
     "text": [
      "324.18079093552694\n"
     ]
    }
   ],
   "source": [
    "x_train_rfe = rfe.transform(X_train)\n",
    "x_test_rfe = rfe.transform(X_test)\n",
    "clf = RandomForestRegressor()\n",
    "clf.fit(x_train_rfe,y_train)\n",
    "y_pred_rfe =clf.predict(x_test_rfe)\n",
    "from sklearn.metrics import mean_squared_error \n",
    "print(mean_squared_error(y_test, y_pred_rfe)**0.5)"
   ]
  },
  {
   "cell_type": "markdown",
   "id": "3df0d997",
   "metadata": {},
   "source": [
    "#### Making predictions, Need to preprocess test data as we processed train_data"
   ]
  },
  {
   "cell_type": "code",
   "execution_count": 37,
   "id": "7ed2b7ff",
   "metadata": {},
   "outputs": [
    {
     "name": "stdout",
     "output_type": "stream",
     "text": [
      "Nan in test data before - Product_id           0\n",
      "Stall_no             1\n",
      "instock_date         0\n",
      "Market_Category      0\n",
      "Customer_name       53\n",
      "Loyalty_customer     0\n",
      "Product_Category     0\n",
      "Grade                0\n",
      "Demand               0\n",
      "Discount_avail       0\n",
      "charges_1           36\n",
      "charges_2 (%)        5\n",
      "Minimum_price       14\n",
      "Maximum_price        0\n",
      "dtype: int64\n",
      "Nan in test data after - Product_id          0\n",
      "Stall_no            0\n",
      "instock_date        0\n",
      "Market_Category     0\n",
      "Customer_name       0\n",
      "Loyalty_customer    0\n",
      "Product_Category    0\n",
      "Grade               0\n",
      "Demand              0\n",
      "Discount_avail      0\n",
      "charges_1           0\n",
      "charges_2 (%)       0\n",
      "Minimum_price       0\n",
      "Maximum_price       0\n",
      "dtype: int64\n"
     ]
    }
   ],
   "source": [
    "print(\"Nan in test data before -\", test_data.isna().sum())\n",
    "for col in test_data.columns:\n",
    "    if test_data[col].dtype == 'float64' or test_data[col].dtype == 'int64':\n",
    "        test_data[col].fillna(np.nanmean(test_data[col].values), inplace=True)\n",
    "    else:\n",
    "        test_data[col].fillna(test_data[col].value_counts().keys()[0], inplace=True)\n",
    "print(\"Nan in test data after -\", test_data.isna().sum())"
   ]
  },
  {
   "cell_type": "code",
   "execution_count": 38,
   "id": "d832bfc1",
   "metadata": {},
   "outputs": [
    {
     "name": "stdout",
     "output_type": "stream",
     "text": [
      "<class 'pandas.core.frame.DataFrame'>\n",
      "RangeIndex: 3430 entries, 0 to 3429\n",
      "Data columns (total 14 columns):\n",
      " #   Column            Non-Null Count  Dtype  \n",
      "---  ------            --------------  -----  \n",
      " 0   Product_id        3430 non-null   object \n",
      " 1   Stall_no          3430 non-null   float64\n",
      " 2   instock_date      3430 non-null   object \n",
      " 3   Market_Category   3430 non-null   int64  \n",
      " 4   Customer_name     3430 non-null   object \n",
      " 5   Loyalty_customer  3430 non-null   object \n",
      " 6   Product_Category  3430 non-null   object \n",
      " 7   Grade             3430 non-null   int64  \n",
      " 8   Demand            3430 non-null   int64  \n",
      " 9   Discount_avail    3430 non-null   int64  \n",
      " 10  charges_1         3430 non-null   float64\n",
      " 11  charges_2 (%)     3430 non-null   float64\n",
      " 12  Minimum_price     3430 non-null   float64\n",
      " 13  Maximum_price     3430 non-null   int64  \n",
      "dtypes: float64(4), int64(5), object(5)\n",
      "memory usage: 375.3+ KB\n",
      "Before -  None\n",
      "<class 'pandas.core.frame.DataFrame'>\n",
      "RangeIndex: 3430 entries, 0 to 3429\n",
      "Data columns (total 14 columns):\n",
      " #   Column            Non-Null Count  Dtype  \n",
      "---  ------            --------------  -----  \n",
      " 0   Product_id        3430 non-null   int32  \n",
      " 1   Stall_no          3430 non-null   float64\n",
      " 2   instock_date      3430 non-null   int32  \n",
      " 3   Market_Category   3430 non-null   int64  \n",
      " 4   Customer_name     3430 non-null   int32  \n",
      " 5   Loyalty_customer  3430 non-null   int32  \n",
      " 6   Product_Category  3430 non-null   int32  \n",
      " 7   Grade             3430 non-null   int64  \n",
      " 8   Demand            3430 non-null   int64  \n",
      " 9   Discount_avail    3430 non-null   int64  \n",
      " 10  charges_1         3430 non-null   float64\n",
      " 11  charges_2 (%)     3430 non-null   float64\n",
      " 12  Minimum_price     3430 non-null   float64\n",
      " 13  Maximum_price     3430 non-null   int64  \n",
      "dtypes: float64(4), int32(5), int64(5)\n",
      "memory usage: 308.3 KB\n",
      "After - None\n"
     ]
    }
   ],
   "source": [
    "## As there objects are present, we need to change into categorical values\n",
    "print(\"Before - \",test_data.info())\n",
    "from sklearn.preprocessing import StandardScaler, LabelEncoder\n",
    "for col in test_data.columns:\n",
    "    if test_data[col].dtype == 'object':\n",
    "        lbl_enc = LabelEncoder()\n",
    "        lbl_enc.fit(test_data[col].values)\n",
    "        test_data[col] = lbl_enc.transform(test_data[col].values.tolist())\n",
    "    \n",
    "print(\"After -\", test_data.info())"
   ]
  },
  {
   "cell_type": "code",
   "execution_count": 40,
   "id": "0b262cc7",
   "metadata": {},
   "outputs": [],
   "source": [
    "test_data = test_data.drop(columns = ['Product_id','instock_date'])\n",
    "final_prediction = rf_model.predict(test_data)"
   ]
  },
  {
   "cell_type": "code",
   "execution_count": 41,
   "id": "f5fa650e",
   "metadata": {},
   "outputs": [],
   "source": [
    "pred_upd = pd.concat([p_id, pd.DataFrame(final_prediction)], axis=1)"
   ]
  },
  {
   "cell_type": "code",
   "execution_count": 45,
   "id": "97ca23f0",
   "metadata": {},
   "outputs": [],
   "source": [
    "pred_upd.to_csv(\"sample.csv\", index=False)"
   ]
  },
  {
   "cell_type": "code",
   "execution_count": 49,
   "id": "c11bd3cc",
   "metadata": {},
   "outputs": [
    {
     "data": {
      "text/plain": [
       "False"
      ]
     },
     "execution_count": 49,
     "metadata": {},
     "output_type": "execute_result"
    }
   ],
   "source": []
  },
  {
   "cell_type": "code",
   "execution_count": null,
   "id": "f3cce79c",
   "metadata": {},
   "outputs": [],
   "source": []
  }
 ],
 "metadata": {
  "kernelspec": {
   "display_name": "Python 3",
   "language": "python",
   "name": "python3"
  },
  "language_info": {
   "codemirror_mode": {
    "name": "ipython",
    "version": 3
   },
   "file_extension": ".py",
   "mimetype": "text/x-python",
   "name": "python",
   "nbconvert_exporter": "python",
   "pygments_lexer": "ipython3",
   "version": "3.8.8"
  }
 },
 "nbformat": 4,
 "nbformat_minor": 5
}
