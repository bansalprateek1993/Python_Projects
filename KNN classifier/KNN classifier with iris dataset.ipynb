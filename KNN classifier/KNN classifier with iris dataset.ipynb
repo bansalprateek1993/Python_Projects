{
 "cells": [
  {
   "cell_type": "code",
   "execution_count": 24,
   "id": "1dfb2f60",
   "metadata": {},
   "outputs": [],
   "source": [
    "import pandas as pd\n",
    "from csv import reader"
   ]
  },
  {
   "cell_type": "markdown",
   "id": "4f750ac9",
   "metadata": {},
   "source": [
    "#### Reading with csv reader as data does not have any headings, so to use all rows using this method"
   ]
  },
  {
   "cell_type": "code",
   "execution_count": 25,
   "id": "d1032957",
   "metadata": {},
   "outputs": [],
   "source": [
    "# Load a CSV file\n",
    "def load_csv(filename):\n",
    "    dataset = list()\n",
    "    with open(filename, 'r') as file:\n",
    "        csv_reader = reader(file)\n",
    "        for row in csv_reader:\n",
    "            if not row:\n",
    "                continue\n",
    "            dataset.append(row)\n",
    "    return dataset\n",
    "\n",
    "data = load_csv('./iris_dataset.csv')"
   ]
  },
  {
   "cell_type": "code",
   "execution_count": 36,
   "id": "b4f9f7e7",
   "metadata": {},
   "outputs": [],
   "source": [
    "X = []\n",
    "y = []\n",
    "for row in data:\n",
    "    row_list = []\n",
    "    for val in range(len(row)-1):\n",
    "        row_list.append(float(row[val]))\n",
    "    X.append(row_list)\n",
    "    y.append(row[-1])"
   ]
  },
  {
   "cell_type": "code",
   "execution_count": 42,
   "id": "1a54db8e",
   "metadata": {},
   "outputs": [
    {
     "name": "stdout",
     "output_type": "stream",
     "text": [
      "150\n",
      "150\n",
      "[5.1, 3.5, 1.4, 0.2]\n"
     ]
    }
   ],
   "source": [
    "print(len(X))\n",
    "print(len(y))\n",
    "print(X[0])"
   ]
  },
  {
   "cell_type": "code",
   "execution_count": 49,
   "id": "51b4020d",
   "metadata": {},
   "outputs": [],
   "source": [
    "import numpy as np\n",
    "from collections import Counter\n",
    "\n",
    "def euc_distance_vec(x,y):\n",
    "    sqr_list = [np.square(p_x-p_y) for p_x,p_y in zip(x,y)]\n",
    "    return np.sqrt(np.sum(sqr_list))\n",
    "\n",
    "def get_near_neigh(test_point, set_of_points, dist_metric):\n",
    "    dist_from_test = [dist_metric(test_point, point) for point in set_of_points]\n",
    "    indices_ascending = np.argsort(dist_from_test)\n",
    "    indices_descending = indices_ascending[::-1]\n",
    "    distance_descending = np.sort(dist_from_test)[::-1]\n",
    "    return indices_descending\n",
    "\n",
    "def make_predictions(k, test_point, y,  set_of_points):\n",
    "    indices_descending = get_near_neigh(test_point, set_of_points, euc_distance_vec)\n",
    "    #checking starting k points\n",
    "    y_upd = [y[val] for val in indices_descending]\n",
    "    y_for_k = y_upd[0:k]\n",
    "    pred = max(set(y_for_k), key=y_for_k.count)\n",
    "    return pred, y_for_k"
   ]
  },
  {
   "cell_type": "code",
   "execution_count": 50,
   "id": "5a2eaea5",
   "metadata": {},
   "outputs": [
    {
     "name": "stdout",
     "output_type": "stream",
     "text": [
      "Prediction is - Iris-virginica\n",
      "['Iris-virginica', 'Iris-virginica', 'Iris-setosa', 'Iris-virginica', 'Iris-virginica']\n"
     ]
    }
   ],
   "source": [
    "k = 5\n",
    "test_point = [1.2, 3.4, 5.6, 2.0]\n",
    "pred, pred_list = make_predictions(k, test_point, y, X)\n",
    "print(\"Prediction is -\", pred)\n",
    "print(pred_list)"
   ]
  },
  {
   "cell_type": "code",
   "execution_count": null,
   "id": "a5da1fa1",
   "metadata": {},
   "outputs": [],
   "source": []
  }
 ],
 "metadata": {
  "kernelspec": {
   "display_name": "Python 3",
   "language": "python",
   "name": "python3"
  },
  "language_info": {
   "codemirror_mode": {
    "name": "ipython",
    "version": 3
   },
   "file_extension": ".py",
   "mimetype": "text/x-python",
   "name": "python",
   "nbconvert_exporter": "python",
   "pygments_lexer": "ipython3",
   "version": "3.8.8"
  }
 },
 "nbformat": 4,
 "nbformat_minor": 5
}
