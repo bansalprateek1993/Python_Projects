{
 "cells": [
  {
   "cell_type": "markdown",
   "id": "d344254c",
   "metadata": {},
   "source": [
    "### Creating our own simple Data\n",
    "    1.It will have 3 columns - Age, Gender, Genre\n",
    "    2.men - (20-25) - HipHop, (26-30) - Jazz, (30-x) - Classical\n",
    "    3.women - (20-25) - Dance, (26-30) - Accoustic, (30-x) - Classical"
   ]
  },
  {
   "cell_type": "code",
   "execution_count": 38,
   "id": "3e531eb0",
   "metadata": {},
   "outputs": [],
   "source": [
    "import pandas as pd"
   ]
  },
  {
   "cell_type": "code",
   "execution_count": 39,
   "id": "1d629745",
   "metadata": {},
   "outputs": [],
   "source": [
    "#Creating a list and then filling data in it.\n",
    "import random\n",
    "dataset_size = 100\n",
    "age = [random.randint(20,50) for i in range(dataset_size)]    "
   ]
  },
  {
   "cell_type": "code",
   "execution_count": 40,
   "id": "a3923d56",
   "metadata": {},
   "outputs": [],
   "source": [
    "gen = ['Male', 'Female']\n",
    "gender = [random.choice(gen) for i in range(dataset_size)]"
   ]
  },
  {
   "cell_type": "markdown",
   "id": "502d8e71",
   "metadata": {},
   "source": [
    "#### Now using the rule described above creating a list for Genre."
   ]
  },
  {
   "cell_type": "code",
   "execution_count": 41,
   "id": "8aecd055",
   "metadata": {},
   "outputs": [],
   "source": [
    "def choose_genre(series):\n",
    "    age_x = series['Age']\n",
    "    gen_x = series['Gender']\n",
    "    if age_x >=20 and age_x<=25:\n",
    "        if gen_x == \"Male\":\n",
    "            return \"HipHop\"\n",
    "        else:\n",
    "            return \"Dance\"\n",
    "    elif age_x>=26 and age_x<=30:\n",
    "        if gen_x == \"Male\":\n",
    "            return \"Jazz\"\n",
    "        else:\n",
    "            return \"Accoustic\"\n",
    "    else:\n",
    "        return \"Classical\""
   ]
  },
  {
   "cell_type": "code",
   "execution_count": 42,
   "id": "2b04a8fa",
   "metadata": {},
   "outputs": [],
   "source": [
    "train_df = pd.DataFrame({\"Age\":age, \"Gender\":gender})"
   ]
  },
  {
   "cell_type": "code",
   "execution_count": 43,
   "id": "cecfb299",
   "metadata": {},
   "outputs": [],
   "source": [
    "train_df['Genre'] = train_df.apply(choose_genre, axis='columns')"
   ]
  },
  {
   "cell_type": "code",
   "execution_count": 28,
   "id": "4ba37e1d",
   "metadata": {},
   "outputs": [
    {
     "data": {
      "text/html": [
       "<div>\n",
       "<style scoped>\n",
       "    .dataframe tbody tr th:only-of-type {\n",
       "        vertical-align: middle;\n",
       "    }\n",
       "\n",
       "    .dataframe tbody tr th {\n",
       "        vertical-align: top;\n",
       "    }\n",
       "\n",
       "    .dataframe thead th {\n",
       "        text-align: right;\n",
       "    }\n",
       "</style>\n",
       "<table border=\"1\" class=\"dataframe\">\n",
       "  <thead>\n",
       "    <tr style=\"text-align: right;\">\n",
       "      <th></th>\n",
       "      <th>Age</th>\n",
       "      <th>Gender</th>\n",
       "      <th>Genre</th>\n",
       "    </tr>\n",
       "  </thead>\n",
       "  <tbody>\n",
       "    <tr>\n",
       "      <th>0</th>\n",
       "      <td>41</td>\n",
       "      <td>Male</td>\n",
       "      <td>Classical</td>\n",
       "    </tr>\n",
       "    <tr>\n",
       "      <th>1</th>\n",
       "      <td>26</td>\n",
       "      <td>Male</td>\n",
       "      <td>Jazz</td>\n",
       "    </tr>\n",
       "    <tr>\n",
       "      <th>2</th>\n",
       "      <td>23</td>\n",
       "      <td>Male</td>\n",
       "      <td>HipHop</td>\n",
       "    </tr>\n",
       "    <tr>\n",
       "      <th>3</th>\n",
       "      <td>47</td>\n",
       "      <td>Female</td>\n",
       "      <td>Classical</td>\n",
       "    </tr>\n",
       "    <tr>\n",
       "      <th>4</th>\n",
       "      <td>30</td>\n",
       "      <td>Female</td>\n",
       "      <td>Accoustic</td>\n",
       "    </tr>\n",
       "  </tbody>\n",
       "</table>\n",
       "</div>"
      ],
      "text/plain": [
       "   Age  Gender      Genre\n",
       "0   41    Male  Classical\n",
       "1   26    Male       Jazz\n",
       "2   23    Male     HipHop\n",
       "3   47  Female  Classical\n",
       "4   30  Female  Accoustic"
      ]
     },
     "execution_count": 28,
     "metadata": {},
     "output_type": "execute_result"
    }
   ],
   "source": [
    "train_df.head()"
   ]
  },
  {
   "cell_type": "markdown",
   "id": "ff0f876b",
   "metadata": {},
   "source": [
    "### Dummy dataset creation complete - as we can see it has age, w.r.t gender and genre.\n",
    "- We can save this df into csv file for later use, and now we dont need to load it into df as its already loaded"
   ]
  },
  {
   "cell_type": "code",
   "execution_count": 44,
   "id": "a3b61195",
   "metadata": {},
   "outputs": [],
   "source": [
    "## saving dataframe into csv for later use\n",
    "train_df.to_csv(\"music_data.csv\")"
   ]
  },
  {
   "cell_type": "markdown",
   "id": "226e4772",
   "metadata": {},
   "source": [
    "### Feature Engineering - categorical to numerical, checking nan values - imputing, finding patterns."
   ]
  },
  {
   "cell_type": "code",
   "execution_count": 47,
   "id": "4507b76f",
   "metadata": {},
   "outputs": [],
   "source": [
    "## No point of checking nan values, as we created the dataset. But checking for practice.\n",
    "# train_df.isna().sum()\n",
    "from sklearn import preprocessing\n",
    "\n",
    "## Dont want to change the label name, only changing the gender\n",
    "for col in train_df.columns[:-1]:\n",
    "    if train_df[col].dtypes == 'object':\n",
    "        lbl_enc = preprocessing.LabelEncoder()\n",
    "        lbl_enc_fit = lbl_enc.fit(train_df[col].values)\n",
    "        train_df[col] = lbl_enc_fit.transform(list(train_df[col].values))"
   ]
  },
  {
   "cell_type": "code",
   "execution_count": 50,
   "id": "77b13e1e",
   "metadata": {},
   "outputs": [
    {
     "data": {
      "text/html": [
       "<div>\n",
       "<style scoped>\n",
       "    .dataframe tbody tr th:only-of-type {\n",
       "        vertical-align: middle;\n",
       "    }\n",
       "\n",
       "    .dataframe tbody tr th {\n",
       "        vertical-align: top;\n",
       "    }\n",
       "\n",
       "    .dataframe thead th {\n",
       "        text-align: right;\n",
       "    }\n",
       "</style>\n",
       "<table border=\"1\" class=\"dataframe\">\n",
       "  <thead>\n",
       "    <tr style=\"text-align: right;\">\n",
       "      <th></th>\n",
       "      <th>Age</th>\n",
       "      <th>Gender</th>\n",
       "      <th>Genre</th>\n",
       "    </tr>\n",
       "  </thead>\n",
       "  <tbody>\n",
       "    <tr>\n",
       "      <th>0</th>\n",
       "      <td>41</td>\n",
       "      <td>0</td>\n",
       "      <td>Classical</td>\n",
       "    </tr>\n",
       "    <tr>\n",
       "      <th>1</th>\n",
       "      <td>34</td>\n",
       "      <td>1</td>\n",
       "      <td>Classical</td>\n",
       "    </tr>\n",
       "    <tr>\n",
       "      <th>2</th>\n",
       "      <td>42</td>\n",
       "      <td>1</td>\n",
       "      <td>Classical</td>\n",
       "    </tr>\n",
       "    <tr>\n",
       "      <th>3</th>\n",
       "      <td>23</td>\n",
       "      <td>0</td>\n",
       "      <td>Dance</td>\n",
       "    </tr>\n",
       "    <tr>\n",
       "      <th>4</th>\n",
       "      <td>24</td>\n",
       "      <td>0</td>\n",
       "      <td>Dance</td>\n",
       "    </tr>\n",
       "  </tbody>\n",
       "</table>\n",
       "</div>"
      ],
      "text/plain": [
       "   Age  Gender      Genre\n",
       "0   41       0  Classical\n",
       "1   34       1  Classical\n",
       "2   42       1  Classical\n",
       "3   23       0      Dance\n",
       "4   24       0      Dance"
      ]
     },
     "execution_count": 50,
     "metadata": {},
     "output_type": "execute_result"
    }
   ],
   "source": [
    "train_df.head()"
   ]
  },
  {
   "cell_type": "markdown",
   "id": "3a58681f",
   "metadata": {},
   "source": [
    "### Creating a input and output data.\n",
    "- Input data is Age and Gender\n",
    "- ouptut data(label) is Genre"
   ]
  },
  {
   "cell_type": "code",
   "execution_count": 60,
   "id": "bb6856d1",
   "metadata": {},
   "outputs": [],
   "source": [
    "X = train_df.iloc[:,:-1]\n",
    "y = train_df.iloc[:,-1]"
   ]
  },
  {
   "cell_type": "code",
   "execution_count": 61,
   "id": "88367f0e",
   "metadata": {},
   "outputs": [
    {
     "data": {
      "text/html": [
       "<div>\n",
       "<style scoped>\n",
       "    .dataframe tbody tr th:only-of-type {\n",
       "        vertical-align: middle;\n",
       "    }\n",
       "\n",
       "    .dataframe tbody tr th {\n",
       "        vertical-align: top;\n",
       "    }\n",
       "\n",
       "    .dataframe thead th {\n",
       "        text-align: right;\n",
       "    }\n",
       "</style>\n",
       "<table border=\"1\" class=\"dataframe\">\n",
       "  <thead>\n",
       "    <tr style=\"text-align: right;\">\n",
       "      <th></th>\n",
       "      <th>Age</th>\n",
       "      <th>Gender</th>\n",
       "    </tr>\n",
       "  </thead>\n",
       "  <tbody>\n",
       "    <tr>\n",
       "      <th>0</th>\n",
       "      <td>41</td>\n",
       "      <td>0</td>\n",
       "    </tr>\n",
       "    <tr>\n",
       "      <th>1</th>\n",
       "      <td>34</td>\n",
       "      <td>1</td>\n",
       "    </tr>\n",
       "    <tr>\n",
       "      <th>2</th>\n",
       "      <td>42</td>\n",
       "      <td>1</td>\n",
       "    </tr>\n",
       "    <tr>\n",
       "      <th>3</th>\n",
       "      <td>23</td>\n",
       "      <td>0</td>\n",
       "    </tr>\n",
       "    <tr>\n",
       "      <th>4</th>\n",
       "      <td>24</td>\n",
       "      <td>0</td>\n",
       "    </tr>\n",
       "  </tbody>\n",
       "</table>\n",
       "</div>"
      ],
      "text/plain": [
       "   Age  Gender\n",
       "0   41       0\n",
       "1   34       1\n",
       "2   42       1\n",
       "3   23       0\n",
       "4   24       0"
      ]
     },
     "execution_count": 61,
     "metadata": {},
     "output_type": "execute_result"
    }
   ],
   "source": [
    "X.head()"
   ]
  },
  {
   "cell_type": "code",
   "execution_count": 63,
   "id": "14d336f9",
   "metadata": {},
   "outputs": [
    {
     "data": {
      "text/plain": [
       "0    Classical\n",
       "1    Classical\n",
       "2    Classical\n",
       "3        Dance\n",
       "4        Dance\n",
       "Name: Genre, dtype: object"
      ]
     },
     "execution_count": 63,
     "metadata": {},
     "output_type": "execute_result"
    }
   ],
   "source": [
    "y.head()"
   ]
  },
  {
   "cell_type": "markdown",
   "id": "6067e792",
   "metadata": {},
   "source": [
    "### Using Decision tree classifier"
   ]
  },
  {
   "cell_type": "code",
   "execution_count": 66,
   "id": "74ecc5ff",
   "metadata": {},
   "outputs": [
    {
     "data": {
      "text/plain": [
       "DecisionTreeClassifier()"
      ]
     },
     "execution_count": 66,
     "metadata": {},
     "output_type": "execute_result"
    }
   ],
   "source": [
    "from sklearn.tree import DecisionTreeClassifier\n",
    "model = DecisionTreeClassifier()\n",
    "model.fit(X,y)"
   ]
  },
  {
   "cell_type": "markdown",
   "id": "b3471bcb",
   "metadata": {},
   "source": [
    "### Making prediction"
   ]
  },
  {
   "cell_type": "code",
   "execution_count": 68,
   "id": "88b602e3",
   "metadata": {},
   "outputs": [
    {
     "name": "stdout",
     "output_type": "stream",
     "text": [
      "['HipHop' 'Dance']\n"
     ]
    }
   ],
   "source": [
    "prediction = model.predict([[21, 1], [22,  0]])\n",
    "print(prediction)"
   ]
  },
  {
   "cell_type": "markdown",
   "id": "0a4e5472",
   "metadata": {},
   "source": [
    "### We can see, it is making accurate predictions. But still we have not measure accuracy. For that we can split our dataset into train and test, and check accuracy on test dataset.  "
   ]
  },
  {
   "cell_type": "code",
   "execution_count": 69,
   "id": "d5773ff9",
   "metadata": {},
   "outputs": [],
   "source": [
    "from sklearn.model_selection import train_test_split\n",
    "X_train, X_test, y_train, y_test = train_test_split(X,y, test_size=0.2, shuffle=1)"
   ]
  },
  {
   "cell_type": "markdown",
   "id": "4737358d",
   "metadata": {},
   "source": [
    "### Now we can repeat all the steps we did for single dataset."
   ]
  },
  {
   "cell_type": "code",
   "execution_count": 71,
   "id": "f42c3963",
   "metadata": {},
   "outputs": [
    {
     "data": {
      "text/plain": [
       "DecisionTreeClassifier()"
      ]
     },
     "execution_count": 71,
     "metadata": {},
     "output_type": "execute_result"
    }
   ],
   "source": [
    "model_train = DecisionTreeClassifier()\n",
    "model_train.fit(X_train,y_train)"
   ]
  },
  {
   "cell_type": "code",
   "execution_count": 73,
   "id": "fcbdf9e8",
   "metadata": {},
   "outputs": [],
   "source": [
    "## Making predictions\n",
    "predictions = model_train.predict(X_test)"
   ]
  },
  {
   "cell_type": "code",
   "execution_count": 75,
   "id": "a5083eea",
   "metadata": {},
   "outputs": [],
   "source": [
    "from sklearn.metrics import accuracy_score\n",
    "acc = accuracy_score(y_test, predictions)"
   ]
  },
  {
   "cell_type": "code",
   "execution_count": 78,
   "id": "1084ad18",
   "metadata": {},
   "outputs": [
    {
     "name": "stdout",
     "output_type": "stream",
     "text": [
      "Accuracy is - 100.0\n"
     ]
    }
   ],
   "source": [
    "print(f'Accuracy is - {acc*100}')"
   ]
  },
  {
   "cell_type": "markdown",
   "id": "a9024b90",
   "metadata": {},
   "source": [
    "#### It is giving 100% accuracy, as our problem statement and dataset is simple enough to give 100% accuracy. If see change in accuracy, we can experiment with reducing train data size or running decision tree again and again.\n",
    "\n",
    "#### Saving a model"
   ]
  },
  {
   "cell_type": "code",
   "execution_count": 81,
   "id": "36f8ef89",
   "metadata": {},
   "outputs": [
    {
     "data": {
      "text/plain": [
       "['recommender_system.joblib']"
      ]
     },
     "execution_count": 81,
     "metadata": {},
     "output_type": "execute_result"
    }
   ],
   "source": [
    "import joblib\n",
    "joblib.dump(model_train, 'recommender_system.joblib')"
   ]
  },
  {
   "cell_type": "markdown",
   "id": "66a632ee",
   "metadata": {},
   "source": [
    "### Loading and predicting a datapoint"
   ]
  },
  {
   "cell_type": "code",
   "execution_count": 82,
   "id": "f71dfc92",
   "metadata": {},
   "outputs": [
    {
     "data": {
      "text/plain": [
       "array(['Dance'], dtype=object)"
      ]
     },
     "execution_count": 82,
     "metadata": {},
     "output_type": "execute_result"
    }
   ],
   "source": [
    "trained_model = joblib.load('recommender_system.joblib')\n",
    "trained_model.predict([[22,0]])"
   ]
  },
  {
   "cell_type": "markdown",
   "id": "42e28a12",
   "metadata": {},
   "source": [
    "### Visualizing our decision tree"
   ]
  },
  {
   "cell_type": "code",
   "execution_count": 86,
   "id": "2be7be4a",
   "metadata": {},
   "outputs": [],
   "source": [
    "from sklearn import tree\n",
    "tree.export_graphviz(trained_model, \n",
    "                     out_file=\"music-recommend.dot\", \n",
    "                     feature_names=['Age', 'Gender'], \n",
    "                     class_names=sorted(y.unique()),\n",
    "                     label = 'all',\n",
    "                     rounded = True, \n",
    "                     filled = True)"
   ]
  },
  {
   "cell_type": "code",
   "execution_count": null,
   "id": "9da725b1",
   "metadata": {},
   "outputs": [],
   "source": []
  }
 ],
 "metadata": {
  "kernelspec": {
   "display_name": "Python 3",
   "language": "python",
   "name": "python3"
  },
  "language_info": {
   "codemirror_mode": {
    "name": "ipython",
    "version": 3
   },
   "file_extension": ".py",
   "mimetype": "text/x-python",
   "name": "python",
   "nbconvert_exporter": "python",
   "pygments_lexer": "ipython3",
   "version": "3.8.8"
  }
 },
 "nbformat": 4,
 "nbformat_minor": 5
}
